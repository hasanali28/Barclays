{
 "cells": [
  {
   "cell_type": "markdown",
   "metadata": {
    "id": "pkdBZ1CJNvm5"
   },
   "source": [
    "# MISSING VALUE IMPUTATION AND OUTLIER DETECTION\n",
    "\n"
   ]
  },
  {
   "cell_type": "markdown",
   "metadata": {
    "id": "kFpmxKkYO0hq"
   },
   "source": [
    "\n",
    "\n",
    "---\n",
    "\n",
    "\n",
    "\n",
    "---\n",
    "\n",
    "***What is a Missing Value ?***\n",
    "\n",
    "Missing values are considered to be the first obstacle in predictive modeling. Hence, it’s important to master the methods to overcome them.\n",
    "\n",
    "***A few of the formats in which missing value can occur are:***\n",
    "\n",
    "* Blank space\n",
    "* \"-\"\n",
    "* \"?\"\n",
    "* \"None\"\n",
    "* \"NaN\"\n",
    "* \"NA\""
   ]
  },
  {
   "cell_type": "markdown",
   "metadata": {
    "id": "7pxxsXSeQLX7"
   },
   "source": [
    "\n",
    "\n",
    "---\n",
    "\n",
    "***But why do missing values occur?***\n",
    "\n",
    "***Missing values can occur at two stages:***\n",
    "\n",
    "* ***Data Extraction:*** It is possible that there are problems with extraction process. In such cases, we should double-check for correct data with data guardians. Some hashing procedures can also be used to make sure data extraction is correct. Errors at data extraction stage are typically easy to find and can be corrected easily as well.\n",
    "* ***Data collection:*** These errors occur at time of data collection and are harder to correct. They can be categorized in four types:\n",
    " * ***Missing completely at random:*** This is a case when the probability of missing variable is same for all observations. For example: respondents of data collection process decide that they will declare their earning after tossing a fair coin. If an head occurs, respondent declares his / her earnings & vice versa. Here each observation has equal chance of missing value.\n",
    " * ***Missing at random:*** This is a case when variable is missing at random and missing ratio varies for different values / level of other input variables. For example: While collecting data for age of both men and women. Women have higher missing value as compared to men.\n",
    " * ***Missing that depends on unobserved predictors:*** This is a case when the missing values are not random and are related to the unobserved input variable. For example: In a medical study, if a particular diagnostic causes discomfort, then there is higher chance of drop out from the study. This missing value is not at random unless we have included “discomfort” as an input variable for all patients.\n",
    " * ***Missing that depends on the missing value itself:*** This is a case when the probability of missing value is directly correlated with missing value itself. For example: People with higher or lower income are likely to provide non-response to their earning.\n",
    "\n",
    "---\n",
    "\n"
   ]
  },
  {
   "cell_type": "markdown",
   "metadata": {
    "id": "BZMmuVoqRPh0"
   },
   "source": [
    "\n",
    "\n",
    "---\n",
    "\n",
    "\n",
    "***Impact of missing values***\n",
    "\n",
    "Missing data in the training dataset can reduce the power / fit of a model or can lead to a biased model because we have not analysed the behavior and relationship with other variables correctly. It can lead to wrong prediction or classification.\n",
    "\n",
    "![alt text](https://www.analyticsvidhya.com/wp-content/uploads/2015/02/Data_Exploration_2_11.png)\n",
    "\n",
    "Notice the missing values in the image shown above: In the left scenario, we have not treated missing values. The inference from this data set is that the chances of playing cricket by males is higher than females. On the other hand, if you look at the second table, which shows data after treatment of missing values (based on gender), we can see that females have higher chances of playing cricket compared to males."
   ]
  },
  {
   "cell_type": "markdown",
   "metadata": {
    "id": "oWG8jx7kRpcr"
   },
   "source": [
    "\n",
    "\n",
    "---\n",
    "\n",
    "***How to detect missing values?***\n",
    "\n",
    "In python, using pandas you can easily detect if there are missing values in the dataset. There's a \"isnull\" function of pandas, which does the job for you automatically.\n",
    "\n",
    "---\n",
    "\n"
   ]
  },
  {
   "cell_type": "code",
   "execution_count": 1,
   "metadata": {
    "ExecuteTime": {
     "end_time": "2022-11-22T17:46:22.932603Z",
     "start_time": "2022-11-22T17:46:21.546813Z"
    },
    "id": "BG-k_DciNgOg"
   },
   "outputs": [],
   "source": [
    "# importing required libraries\n",
    "\n",
    "import pandas as pd\n",
    "\n",
    "import matplotlib.pyplot as plt\n",
    "%matplotlib inline"
   ]
  },
  {
   "cell_type": "code",
   "execution_count": 2,
   "metadata": {
    "ExecuteTime": {
     "end_time": "2022-11-22T17:46:22.947607Z",
     "start_time": "2022-11-22T17:46:22.933601Z"
    },
    "colab": {
     "base_uri": "https://localhost:8080/",
     "height": 74,
     "resources": {
      "http://localhost:8080/nbextensions/google.colab/files.js": {
       "data": "Ly8gQ29weXJpZ2h0IDIwMTcgR29vZ2xlIExMQwovLwovLyBMaWNlbnNlZCB1bmRlciB0aGUgQXBhY2hlIExpY2Vuc2UsIFZlcnNpb24gMi4wICh0aGUgIkxpY2Vuc2UiKTsKLy8geW91IG1heSBub3QgdXNlIHRoaXMgZmlsZSBleGNlcHQgaW4gY29tcGxpYW5jZSB3aXRoIHRoZSBMaWNlbnNlLgovLyBZb3UgbWF5IG9idGFpbiBhIGNvcHkgb2YgdGhlIExpY2Vuc2UgYXQKLy8KLy8gICAgICBodHRwOi8vd3d3LmFwYWNoZS5vcmcvbGljZW5zZXMvTElDRU5TRS0yLjAKLy8KLy8gVW5sZXNzIHJlcXVpcmVkIGJ5IGFwcGxpY2FibGUgbGF3IG9yIGFncmVlZCB0byBpbiB3cml0aW5nLCBzb2Z0d2FyZQovLyBkaXN0cmlidXRlZCB1bmRlciB0aGUgTGljZW5zZSBpcyBkaXN0cmlidXRlZCBvbiBhbiAiQVMgSVMiIEJBU0lTLAovLyBXSVRIT1VUIFdBUlJBTlRJRVMgT1IgQ09ORElUSU9OUyBPRiBBTlkgS0lORCwgZWl0aGVyIGV4cHJlc3Mgb3IgaW1wbGllZC4KLy8gU2VlIHRoZSBMaWNlbnNlIGZvciB0aGUgc3BlY2lmaWMgbGFuZ3VhZ2UgZ292ZXJuaW5nIHBlcm1pc3Npb25zIGFuZAovLyBsaW1pdGF0aW9ucyB1bmRlciB0aGUgTGljZW5zZS4KCi8qKgogKiBAZmlsZW92ZXJ2aWV3IEhlbHBlcnMgZm9yIGdvb2dsZS5jb2xhYiBQeXRob24gbW9kdWxlLgogKi8KKGZ1bmN0aW9uKHNjb3BlKSB7CmZ1bmN0aW9uIHNwYW4odGV4dCwgc3R5bGVBdHRyaWJ1dGVzID0ge30pIHsKICBjb25zdCBlbGVtZW50ID0gZG9jdW1lbnQuY3JlYXRlRWxlbWVudCgnc3BhbicpOwogIGVsZW1lbnQudGV4dENvbnRlbnQgPSB0ZXh0OwogIGZvciAoY29uc3Qga2V5IG9mIE9iamVjdC5rZXlzKHN0eWxlQXR0cmlidXRlcykpIHsKICAgIGVsZW1lbnQuc3R5bGVba2V5XSA9IHN0eWxlQXR0cmlidXRlc1trZXldOwogIH0KICByZXR1cm4gZWxlbWVudDsKfQoKLy8gTWF4IG51bWJlciBvZiBieXRlcyB3aGljaCB3aWxsIGJlIHVwbG9hZGVkIGF0IGEgdGltZS4KY29uc3QgTUFYX1BBWUxPQURfU0laRSA9IDEwMCAqIDEwMjQ7Ci8vIE1heCBhbW91bnQgb2YgdGltZSB0byBibG9jayB3YWl0aW5nIGZvciB0aGUgdXNlci4KY29uc3QgRklMRV9DSEFOR0VfVElNRU9VVF9NUyA9IDMwICogMTAwMDsKCmZ1bmN0aW9uIF91cGxvYWRGaWxlcyhpbnB1dElkLCBvdXRwdXRJZCkgewogIGNvbnN0IHN0ZXBzID0gdXBsb2FkRmlsZXNTdGVwKGlucHV0SWQsIG91dHB1dElkKTsKICBjb25zdCBvdXRwdXRFbGVtZW50ID0gZG9jdW1lbnQuZ2V0RWxlbWVudEJ5SWQob3V0cHV0SWQpOwogIC8vIENhY2hlIHN0ZXBzIG9uIHRoZSBvdXRwdXRFbGVtZW50IHRvIG1ha2UgaXQgYXZhaWxhYmxlIGZvciB0aGUgbmV4dCBjYWxsCiAgLy8gdG8gdXBsb2FkRmlsZXNDb250aW51ZSBmcm9tIFB5dGhvbi4KICBvdXRwdXRFbGVtZW50LnN0ZXBzID0gc3RlcHM7CgogIHJldHVybiBfdXBsb2FkRmlsZXNDb250aW51ZShvdXRwdXRJZCk7Cn0KCi8vIFRoaXMgaXMgcm91Z2hseSBhbiBhc3luYyBnZW5lcmF0b3IgKG5vdCBzdXBwb3J0ZWQgaW4gdGhlIGJyb3dzZXIgeWV0KSwKLy8gd2hlcmUgdGhlcmUgYXJlIG11bHRpcGxlIGFzeW5jaHJvbm91cyBzdGVwcyBhbmQgdGhlIFB5dGhvbiBzaWRlIGlzIGdvaW5nCi8vIHRvIHBvbGwgZm9yIGNvbXBsZXRpb24gb2YgZWFjaCBzdGVwLgovLyBUaGlzIHVzZXMgYSBQcm9taXNlIHRvIGJsb2NrIHRoZSBweXRob24gc2lkZSBvbiBjb21wbGV0aW9uIG9mIGVhY2ggc3RlcCwKLy8gdGhlbiBwYXNzZXMgdGhlIHJlc3VsdCBvZiB0aGUgcHJldmlvdXMgc3RlcCBhcyB0aGUgaW5wdXQgdG8gdGhlIG5leHQgc3RlcC4KZnVuY3Rpb24gX3VwbG9hZEZpbGVzQ29udGludWUob3V0cHV0SWQpIHsKICBjb25zdCBvdXRwdXRFbGVtZW50ID0gZG9jdW1lbnQuZ2V0RWxlbWVudEJ5SWQob3V0cHV0SWQpOwogIGNvbnN0IHN0ZXBzID0gb3V0cHV0RWxlbWVudC5zdGVwczsKCiAgY29uc3QgbmV4dCA9IHN0ZXBzLm5leHQob3V0cHV0RWxlbWVudC5sYXN0UHJvbWlzZVZhbHVlKTsKICByZXR1cm4gUHJvbWlzZS5yZXNvbHZlKG5leHQudmFsdWUucHJvbWlzZSkudGhlbigodmFsdWUpID0+IHsKICAgIC8vIENhY2hlIHRoZSBsYXN0IHByb21pc2UgdmFsdWUgdG8gbWFrZSBpdCBhdmFpbGFibGUgdG8gdGhlIG5leHQKICAgIC8vIHN0ZXAgb2YgdGhlIGdlbmVyYXRvci4KICAgIG91dHB1dEVsZW1lbnQubGFzdFByb21pc2VWYWx1ZSA9IHZhbHVlOwogICAgcmV0dXJuIG5leHQudmFsdWUucmVzcG9uc2U7CiAgfSk7Cn0KCi8qKgogKiBHZW5lcmF0b3IgZnVuY3Rpb24gd2hpY2ggaXMgY2FsbGVkIGJldHdlZW4gZWFjaCBhc3luYyBzdGVwIG9mIHRoZSB1cGxvYWQKICogcHJvY2Vzcy4KICogQHBhcmFtIHtzdHJpbmd9IGlucHV0SWQgRWxlbWVudCBJRCBvZiB0aGUgaW5wdXQgZmlsZSBwaWNrZXIgZWxlbWVudC4KICogQHBhcmFtIHtzdHJpbmd9IG91dHB1dElkIEVsZW1lbnQgSUQgb2YgdGhlIG91dHB1dCBkaXNwbGF5LgogKiBAcmV0dXJuIHshSXRlcmFibGU8IU9iamVjdD59IEl0ZXJhYmxlIG9mIG5leHQgc3RlcHMuCiAqLwpmdW5jdGlvbiogdXBsb2FkRmlsZXNTdGVwKGlucHV0SWQsIG91dHB1dElkKSB7CiAgY29uc3QgaW5wdXRFbGVtZW50ID0gZG9jdW1lbnQuZ2V0RWxlbWVudEJ5SWQoaW5wdXRJZCk7CiAgaW5wdXRFbGVtZW50LmRpc2FibGVkID0gZmFsc2U7CgogIGNvbnN0IG91dHB1dEVsZW1lbnQgPSBkb2N1bWVudC5nZXRFbGVtZW50QnlJZChvdXRwdXRJZCk7CiAgb3V0cHV0RWxlbWVudC5pbm5lckhUTUwgPSAnJzsKCiAgY29uc3QgcGlja2VkUHJvbWlzZSA9IG5ldyBQcm9taXNlKChyZXNvbHZlKSA9PiB7CiAgICBpbnB1dEVsZW1lbnQuYWRkRXZlbnRMaXN0ZW5lcignY2hhbmdlJywgKGUpID0+IHsKICAgICAgcmVzb2x2ZShlLnRhcmdldC5maWxlcyk7CiAgICB9KTsKICB9KTsKCiAgY29uc3QgY2FuY2VsID0gZG9jdW1lbnQuY3JlYXRlRWxlbWVudCgnYnV0dG9uJyk7CiAgaW5wdXRFbGVtZW50LnBhcmVudEVsZW1lbnQuYXBwZW5kQ2hpbGQoY2FuY2VsKTsKICBjYW5jZWwudGV4dENvbnRlbnQgPSAnQ2FuY2VsIHVwbG9hZCc7CiAgY29uc3QgY2FuY2VsUHJvbWlzZSA9IG5ldyBQcm9taXNlKChyZXNvbHZlKSA9PiB7CiAgICBjYW5jZWwub25jbGljayA9ICgpID0+IHsKICAgICAgcmVzb2x2ZShudWxsKTsKICAgIH07CiAgfSk7CgogIC8vIENhbmNlbCB1cGxvYWQgaWYgdXNlciBoYXNuJ3QgcGlja2VkIGFueXRoaW5nIGluIHRpbWVvdXQuCiAgY29uc3QgdGltZW91dFByb21pc2UgPSBuZXcgUHJvbWlzZSgocmVzb2x2ZSkgPT4gewogICAgc2V0VGltZW91dCgoKSA9PiB7CiAgICAgIHJlc29sdmUobnVsbCk7CiAgICB9LCBGSUxFX0NIQU5HRV9USU1FT1VUX01TKTsKICB9KTsKCiAgLy8gV2FpdCBmb3IgdGhlIHVzZXIgdG8gcGljayB0aGUgZmlsZXMuCiAgY29uc3QgZmlsZXMgPSB5aWVsZCB7CiAgICBwcm9taXNlOiBQcm9taXNlLnJhY2UoW3BpY2tlZFByb21pc2UsIHRpbWVvdXRQcm9taXNlLCBjYW5jZWxQcm9taXNlXSksCiAgICByZXNwb25zZTogewogICAgICBhY3Rpb246ICdzdGFydGluZycsCiAgICB9CiAgfTsKCiAgaWYgKCFmaWxlcykgewogICAgcmV0dXJuIHsKICAgICAgcmVzcG9uc2U6IHsKICAgICAgICBhY3Rpb246ICdjb21wbGV0ZScsCiAgICAgIH0KICAgIH07CiAgfQoKICBjYW5jZWwucmVtb3ZlKCk7CgogIC8vIERpc2FibGUgdGhlIGlucHV0IGVsZW1lbnQgc2luY2UgZnVydGhlciBwaWNrcyBhcmUgbm90IGFsbG93ZWQuCiAgaW5wdXRFbGVtZW50LmRpc2FibGVkID0gdHJ1ZTsKCiAgZm9yIChjb25zdCBmaWxlIG9mIGZpbGVzKSB7CiAgICBjb25zdCBsaSA9IGRvY3VtZW50LmNyZWF0ZUVsZW1lbnQoJ2xpJyk7CiAgICBsaS5hcHBlbmQoc3BhbihmaWxlLm5hbWUsIHtmb250V2VpZ2h0OiAnYm9sZCd9KSk7CiAgICBsaS5hcHBlbmQoc3BhbigKICAgICAgICBgKCR7ZmlsZS50eXBlIHx8ICduL2EnfSkgLSAke2ZpbGUuc2l6ZX0gYnl0ZXMsIGAgKwogICAgICAgIGBsYXN0IG1vZGlmaWVkOiAkewogICAgICAgICAgICBmaWxlLmxhc3RNb2RpZmllZERhdGUgPyBmaWxlLmxhc3RNb2RpZmllZERhdGUudG9Mb2NhbGVEYXRlU3RyaW5nKCkgOgogICAgICAgICAgICAgICAgICAgICAgICAgICAgICAgICAgICAnbi9hJ30gLSBgKSk7CiAgICBjb25zdCBwZXJjZW50ID0gc3BhbignMCUgZG9uZScpOwogICAgbGkuYXBwZW5kQ2hpbGQocGVyY2VudCk7CgogICAgb3V0cHV0RWxlbWVudC5hcHBlbmRDaGlsZChsaSk7CgogICAgY29uc3QgZmlsZURhdGFQcm9taXNlID0gbmV3IFByb21pc2UoKHJlc29sdmUpID0+IHsKICAgICAgY29uc3QgcmVhZGVyID0gbmV3IEZpbGVSZWFkZXIoKTsKICAgICAgcmVhZGVyLm9ubG9hZCA9IChlKSA9PiB7CiAgICAgICAgcmVzb2x2ZShlLnRhcmdldC5yZXN1bHQpOwogICAgICB9OwogICAgICByZWFkZXIucmVhZEFzQXJyYXlCdWZmZXIoZmlsZSk7CiAgICB9KTsKICAgIC8vIFdhaXQgZm9yIHRoZSBkYXRhIHRvIGJlIHJlYWR5LgogICAgbGV0IGZpbGVEYXRhID0geWllbGQgewogICAgICBwcm9taXNlOiBmaWxlRGF0YVByb21pc2UsCiAgICAgIHJlc3BvbnNlOiB7CiAgICAgICAgYWN0aW9uOiAnY29udGludWUnLAogICAgICB9CiAgICB9OwoKICAgIC8vIFVzZSBhIGNodW5rZWQgc2VuZGluZyB0byBhdm9pZCBtZXNzYWdlIHNpemUgbGltaXRzLiBTZWUgYi82MjExNTY2MC4KICAgIGxldCBwb3NpdGlvbiA9IDA7CiAgICB3aGlsZSAocG9zaXRpb24gPCBmaWxlRGF0YS5ieXRlTGVuZ3RoKSB7CiAgICAgIGNvbnN0IGxlbmd0aCA9IE1hdGgubWluKGZpbGVEYXRhLmJ5dGVMZW5ndGggLSBwb3NpdGlvbiwgTUFYX1BBWUxPQURfU0laRSk7CiAgICAgIGNvbnN0IGNodW5rID0gbmV3IFVpbnQ4QXJyYXkoZmlsZURhdGEsIHBvc2l0aW9uLCBsZW5ndGgpOwogICAgICBwb3NpdGlvbiArPSBsZW5ndGg7CgogICAgICBjb25zdCBiYXNlNjQgPSBidG9hKFN0cmluZy5mcm9tQ2hhckNvZGUuYXBwbHkobnVsbCwgY2h1bmspKTsKICAgICAgeWllbGQgewogICAgICAgIHJlc3BvbnNlOiB7CiAgICAgICAgICBhY3Rpb246ICdhcHBlbmQnLAogICAgICAgICAgZmlsZTogZmlsZS5uYW1lLAogICAgICAgICAgZGF0YTogYmFzZTY0LAogICAgICAgIH0sCiAgICAgIH07CiAgICAgIHBlcmNlbnQudGV4dENvbnRlbnQgPQogICAgICAgICAgYCR7TWF0aC5yb3VuZCgocG9zaXRpb24gLyBmaWxlRGF0YS5ieXRlTGVuZ3RoKSAqIDEwMCl9JSBkb25lYDsKICAgIH0KICB9CgogIC8vIEFsbCBkb25lLgogIHlpZWxkIHsKICAgIHJlc3BvbnNlOiB7CiAgICAgIGFjdGlvbjogJ2NvbXBsZXRlJywKICAgIH0KICB9Owp9CgpzY29wZS5nb29nbGUgPSBzY29wZS5nb29nbGUgfHwge307CnNjb3BlLmdvb2dsZS5jb2xhYiA9IHNjb3BlLmdvb2dsZS5jb2xhYiB8fCB7fTsKc2NvcGUuZ29vZ2xlLmNvbGFiLl9maWxlcyA9IHsKICBfdXBsb2FkRmlsZXMsCiAgX3VwbG9hZEZpbGVzQ29udGludWUsCn07Cn0pKHNlbGYpOwo=",
       "headers": [
        [
         "content-type",
         "application/javascript"
        ]
       ],
       "ok": true,
       "status": 200,
       "status_text": ""
      }
     }
    },
    "executionInfo": {
     "elapsed": 16436,
     "status": "ok",
     "timestamp": 1556712574858,
     "user": {
      "displayName": "Lakshay Arora",
      "photoUrl": "https://lh4.googleusercontent.com/-8hnjOv9686A/AAAAAAAAAAI/AAAAAAAADd0/K8X2T4t_X3k/s64/photo.jpg",
      "userId": "14566896705704975507"
     },
     "user_tz": -330
    },
    "id": "FAN4mKx0SYuK",
    "outputId": "38927142-b3a3-4eec-a399-3cca00971381"
   },
   "outputs": [],
   "source": [
    "# use this cell when you are using google colab\n",
    "# from google.colab import files\n",
    "# uploaded = files.upload()"
   ]
  },
  {
   "cell_type": "code",
   "execution_count": 3,
   "metadata": {
    "ExecuteTime": {
     "end_time": "2022-11-22T17:46:22.963079Z",
     "start_time": "2022-11-22T17:46:22.949559Z"
    },
    "id": "bqgfEJfjTI7k"
   },
   "outputs": [],
   "source": [
    "# use this cell when you are using google colab\n",
    "# data = pd.read_csv('student.csv')"
   ]
  },
  {
   "cell_type": "code",
   "execution_count": 4,
   "metadata": {
    "ExecuteTime": {
     "end_time": "2022-11-22T17:46:22.979602Z",
     "start_time": "2022-11-22T17:46:22.964137Z"
    },
    "id": "M7nt9y24FAI5"
   },
   "outputs": [],
   "source": [
    "# use this cell when you are not using google colab\n",
    "# read csv file\n",
    "data = pd.read_csv('data/student.csv')"
   ]
  },
  {
   "cell_type": "code",
   "execution_count": 5,
   "metadata": {
    "ExecuteTime": {
     "end_time": "2022-11-22T17:46:23.010655Z",
     "start_time": "2022-11-22T17:46:22.980603Z"
    },
    "colab": {
     "base_uri": "https://localhost:8080/",
     "height": 224
    },
    "executionInfo": {
     "elapsed": 1391,
     "status": "ok",
     "timestamp": 1556712656613,
     "user": {
      "displayName": "Lakshay Arora",
      "photoUrl": "https://lh4.googleusercontent.com/-8hnjOv9686A/AAAAAAAAAAI/AAAAAAAADd0/K8X2T4t_X3k/s64/photo.jpg",
      "userId": "14566896705704975507"
     },
     "user_tz": -330
    },
    "id": "oPljMyexTT_C",
    "outputId": "e0b227be-5eb0-429f-db85-360efd23c1a5"
   },
   "outputs": [
    {
     "data": {
      "text/html": [
       "<div>\n",
       "<style scoped>\n",
       "    .dataframe tbody tr th:only-of-type {\n",
       "        vertical-align: middle;\n",
       "    }\n",
       "\n",
       "    .dataframe tbody tr th {\n",
       "        vertical-align: top;\n",
       "    }\n",
       "\n",
       "    .dataframe thead th {\n",
       "        text-align: right;\n",
       "    }\n",
       "</style>\n",
       "<table border=\"1\" class=\"dataframe\">\n",
       "  <thead>\n",
       "    <tr style=\"text-align: right;\">\n",
       "      <th></th>\n",
       "      <th>ID</th>\n",
       "      <th>school</th>\n",
       "      <th>sex</th>\n",
       "      <th>age</th>\n",
       "      <th>address</th>\n",
       "      <th>famsize</th>\n",
       "      <th>Pstatus</th>\n",
       "      <th>Medu</th>\n",
       "      <th>Fedu</th>\n",
       "      <th>Mjob</th>\n",
       "      <th>...</th>\n",
       "      <th>internet</th>\n",
       "      <th>romantic</th>\n",
       "      <th>famrel</th>\n",
       "      <th>freetime</th>\n",
       "      <th>goout</th>\n",
       "      <th>Dalc</th>\n",
       "      <th>Walc</th>\n",
       "      <th>health</th>\n",
       "      <th>absences</th>\n",
       "      <th>Grade</th>\n",
       "    </tr>\n",
       "  </thead>\n",
       "  <tbody>\n",
       "    <tr>\n",
       "      <th>0</th>\n",
       "      <td>SD0001</td>\n",
       "      <td>GP</td>\n",
       "      <td>F</td>\n",
       "      <td>18</td>\n",
       "      <td>U</td>\n",
       "      <td>GT3</td>\n",
       "      <td>A</td>\n",
       "      <td>4</td>\n",
       "      <td>4</td>\n",
       "      <td>at_home</td>\n",
       "      <td>...</td>\n",
       "      <td>no</td>\n",
       "      <td>no</td>\n",
       "      <td>NaN</td>\n",
       "      <td>3</td>\n",
       "      <td>4</td>\n",
       "      <td>1</td>\n",
       "      <td>1</td>\n",
       "      <td>3</td>\n",
       "      <td>NaN</td>\n",
       "      <td>1</td>\n",
       "    </tr>\n",
       "    <tr>\n",
       "      <th>1</th>\n",
       "      <td>SD0002</td>\n",
       "      <td>GP</td>\n",
       "      <td>F</td>\n",
       "      <td>17</td>\n",
       "      <td>U</td>\n",
       "      <td>GT3</td>\n",
       "      <td>T</td>\n",
       "      <td>1</td>\n",
       "      <td>1</td>\n",
       "      <td>at_home</td>\n",
       "      <td>...</td>\n",
       "      <td>yes</td>\n",
       "      <td>no</td>\n",
       "      <td>NaN</td>\n",
       "      <td>3</td>\n",
       "      <td>3</td>\n",
       "      <td>1</td>\n",
       "      <td>1</td>\n",
       "      <td>3</td>\n",
       "      <td>NaN</td>\n",
       "      <td>1</td>\n",
       "    </tr>\n",
       "    <tr>\n",
       "      <th>2</th>\n",
       "      <td>SD0003</td>\n",
       "      <td>GP</td>\n",
       "      <td>F</td>\n",
       "      <td>15</td>\n",
       "      <td>U</td>\n",
       "      <td>LE3</td>\n",
       "      <td>T</td>\n",
       "      <td>1</td>\n",
       "      <td>1</td>\n",
       "      <td>at_home</td>\n",
       "      <td>...</td>\n",
       "      <td>yes</td>\n",
       "      <td>no</td>\n",
       "      <td>NaN</td>\n",
       "      <td>3</td>\n",
       "      <td>2</td>\n",
       "      <td>2</td>\n",
       "      <td>3</td>\n",
       "      <td>3</td>\n",
       "      <td>10.0</td>\n",
       "      <td>2</td>\n",
       "    </tr>\n",
       "    <tr>\n",
       "      <th>3</th>\n",
       "      <td>SD0004</td>\n",
       "      <td>GP</td>\n",
       "      <td>F</td>\n",
       "      <td>15</td>\n",
       "      <td>U</td>\n",
       "      <td>GT3</td>\n",
       "      <td>T</td>\n",
       "      <td>4</td>\n",
       "      <td>2</td>\n",
       "      <td>health</td>\n",
       "      <td>...</td>\n",
       "      <td>yes</td>\n",
       "      <td>yes</td>\n",
       "      <td>3.0</td>\n",
       "      <td>2</td>\n",
       "      <td>2</td>\n",
       "      <td>1</td>\n",
       "      <td>1</td>\n",
       "      <td>5</td>\n",
       "      <td>2.0</td>\n",
       "      <td>3</td>\n",
       "    </tr>\n",
       "    <tr>\n",
       "      <th>4</th>\n",
       "      <td>SD0005</td>\n",
       "      <td>GP</td>\n",
       "      <td>F</td>\n",
       "      <td>16</td>\n",
       "      <td>U</td>\n",
       "      <td>GT3</td>\n",
       "      <td>T</td>\n",
       "      <td>3</td>\n",
       "      <td>3</td>\n",
       "      <td>other</td>\n",
       "      <td>...</td>\n",
       "      <td>no</td>\n",
       "      <td>no</td>\n",
       "      <td>4.0</td>\n",
       "      <td>3</td>\n",
       "      <td>2</td>\n",
       "      <td>1</td>\n",
       "      <td>2</td>\n",
       "      <td>5</td>\n",
       "      <td>4.0</td>\n",
       "      <td>2</td>\n",
       "    </tr>\n",
       "  </tbody>\n",
       "</table>\n",
       "<p>5 rows × 32 columns</p>\n",
       "</div>"
      ],
      "text/plain": [
       "       ID school sex  age address famsize Pstatus  Medu  Fedu     Mjob  ...  \\\n",
       "0  SD0001     GP   F   18       U     GT3       A     4     4  at_home  ...   \n",
       "1  SD0002     GP   F   17       U     GT3       T     1     1  at_home  ...   \n",
       "2  SD0003     GP   F   15       U     LE3       T     1     1  at_home  ...   \n",
       "3  SD0004     GP   F   15       U     GT3       T     4     2   health  ...   \n",
       "4  SD0005     GP   F   16       U     GT3       T     3     3    other  ...   \n",
       "\n",
       "  internet romantic famrel  freetime  goout  Dalc Walc health absences Grade  \n",
       "0       no       no    NaN         3      4     1    1      3      NaN     1  \n",
       "1      yes       no    NaN         3      3     1    1      3      NaN     1  \n",
       "2      yes       no    NaN         3      2     2    3      3     10.0     2  \n",
       "3      yes      yes    3.0         2      2     1    1      5      2.0     3  \n",
       "4       no       no    4.0         3      2     1    2      5      4.0     2  \n",
       "\n",
       "[5 rows x 32 columns]"
      ]
     },
     "execution_count": 5,
     "metadata": {},
     "output_type": "execute_result"
    }
   ],
   "source": [
    "# top results of the data\n",
    "data.head()"
   ]
  },
  {
   "cell_type": "code",
   "execution_count": 6,
   "metadata": {
    "ExecuteTime": {
     "end_time": "2022-11-22T17:46:23.025573Z",
     "start_time": "2022-11-22T17:46:23.012650Z"
    },
    "id": "43UWL7s7TgkN"
   },
   "outputs": [],
   "source": [
    "# exercise\n",
    "\n",
    "# write code to print dimensions of the data\n",
    "\n",
    "# write your code here\n"
   ]
  },
  {
   "cell_type": "markdown",
   "metadata": {
    "id": "Cw2O0oA3UytA"
   },
   "source": [
    "***\"isnull\" function highlights those values which are missing as True, separating missing values from non-empty ones.***"
   ]
  },
  {
   "cell_type": "code",
   "execution_count": 7,
   "metadata": {
    "ExecuteTime": {
     "end_time": "2022-11-22T17:46:23.055493Z",
     "start_time": "2022-11-22T17:46:23.026570Z"
    },
    "colab": {
     "base_uri": "https://localhost:8080/",
     "height": 1882
    },
    "executionInfo": {
     "elapsed": 1351,
     "status": "ok",
     "timestamp": 1556713003420,
     "user": {
      "displayName": "Lakshay Arora",
      "photoUrl": "https://lh4.googleusercontent.com/-8hnjOv9686A/AAAAAAAAAAI/AAAAAAAADd0/K8X2T4t_X3k/s64/photo.jpg",
      "userId": "14566896705704975507"
     },
     "user_tz": -330
    },
    "id": "ktzLotPVUpcz",
    "outputId": "1013c3ca-e5ed-459e-da14-7999b073b836"
   },
   "outputs": [
    {
     "data": {
      "text/html": [
       "<div>\n",
       "<style scoped>\n",
       "    .dataframe tbody tr th:only-of-type {\n",
       "        vertical-align: middle;\n",
       "    }\n",
       "\n",
       "    .dataframe tbody tr th {\n",
       "        vertical-align: top;\n",
       "    }\n",
       "\n",
       "    .dataframe thead th {\n",
       "        text-align: right;\n",
       "    }\n",
       "</style>\n",
       "<table border=\"1\" class=\"dataframe\">\n",
       "  <thead>\n",
       "    <tr style=\"text-align: right;\">\n",
       "      <th></th>\n",
       "      <th>ID</th>\n",
       "      <th>school</th>\n",
       "      <th>sex</th>\n",
       "      <th>age</th>\n",
       "      <th>address</th>\n",
       "      <th>famsize</th>\n",
       "      <th>Pstatus</th>\n",
       "      <th>Medu</th>\n",
       "      <th>Fedu</th>\n",
       "      <th>Mjob</th>\n",
       "      <th>...</th>\n",
       "      <th>internet</th>\n",
       "      <th>romantic</th>\n",
       "      <th>famrel</th>\n",
       "      <th>freetime</th>\n",
       "      <th>goout</th>\n",
       "      <th>Dalc</th>\n",
       "      <th>Walc</th>\n",
       "      <th>health</th>\n",
       "      <th>absences</th>\n",
       "      <th>Grade</th>\n",
       "    </tr>\n",
       "  </thead>\n",
       "  <tbody>\n",
       "    <tr>\n",
       "      <th>0</th>\n",
       "      <td>False</td>\n",
       "      <td>False</td>\n",
       "      <td>False</td>\n",
       "      <td>False</td>\n",
       "      <td>False</td>\n",
       "      <td>False</td>\n",
       "      <td>False</td>\n",
       "      <td>False</td>\n",
       "      <td>False</td>\n",
       "      <td>False</td>\n",
       "      <td>...</td>\n",
       "      <td>False</td>\n",
       "      <td>False</td>\n",
       "      <td>True</td>\n",
       "      <td>False</td>\n",
       "      <td>False</td>\n",
       "      <td>False</td>\n",
       "      <td>False</td>\n",
       "      <td>False</td>\n",
       "      <td>True</td>\n",
       "      <td>False</td>\n",
       "    </tr>\n",
       "    <tr>\n",
       "      <th>1</th>\n",
       "      <td>False</td>\n",
       "      <td>False</td>\n",
       "      <td>False</td>\n",
       "      <td>False</td>\n",
       "      <td>False</td>\n",
       "      <td>False</td>\n",
       "      <td>False</td>\n",
       "      <td>False</td>\n",
       "      <td>False</td>\n",
       "      <td>False</td>\n",
       "      <td>...</td>\n",
       "      <td>False</td>\n",
       "      <td>False</td>\n",
       "      <td>True</td>\n",
       "      <td>False</td>\n",
       "      <td>False</td>\n",
       "      <td>False</td>\n",
       "      <td>False</td>\n",
       "      <td>False</td>\n",
       "      <td>True</td>\n",
       "      <td>False</td>\n",
       "    </tr>\n",
       "    <tr>\n",
       "      <th>2</th>\n",
       "      <td>False</td>\n",
       "      <td>False</td>\n",
       "      <td>False</td>\n",
       "      <td>False</td>\n",
       "      <td>False</td>\n",
       "      <td>False</td>\n",
       "      <td>False</td>\n",
       "      <td>False</td>\n",
       "      <td>False</td>\n",
       "      <td>False</td>\n",
       "      <td>...</td>\n",
       "      <td>False</td>\n",
       "      <td>False</td>\n",
       "      <td>True</td>\n",
       "      <td>False</td>\n",
       "      <td>False</td>\n",
       "      <td>False</td>\n",
       "      <td>False</td>\n",
       "      <td>False</td>\n",
       "      <td>False</td>\n",
       "      <td>False</td>\n",
       "    </tr>\n",
       "    <tr>\n",
       "      <th>3</th>\n",
       "      <td>False</td>\n",
       "      <td>False</td>\n",
       "      <td>False</td>\n",
       "      <td>False</td>\n",
       "      <td>False</td>\n",
       "      <td>False</td>\n",
       "      <td>False</td>\n",
       "      <td>False</td>\n",
       "      <td>False</td>\n",
       "      <td>False</td>\n",
       "      <td>...</td>\n",
       "      <td>False</td>\n",
       "      <td>False</td>\n",
       "      <td>False</td>\n",
       "      <td>False</td>\n",
       "      <td>False</td>\n",
       "      <td>False</td>\n",
       "      <td>False</td>\n",
       "      <td>False</td>\n",
       "      <td>False</td>\n",
       "      <td>False</td>\n",
       "    </tr>\n",
       "    <tr>\n",
       "      <th>4</th>\n",
       "      <td>False</td>\n",
       "      <td>False</td>\n",
       "      <td>False</td>\n",
       "      <td>False</td>\n",
       "      <td>False</td>\n",
       "      <td>False</td>\n",
       "      <td>False</td>\n",
       "      <td>False</td>\n",
       "      <td>False</td>\n",
       "      <td>False</td>\n",
       "      <td>...</td>\n",
       "      <td>False</td>\n",
       "      <td>False</td>\n",
       "      <td>False</td>\n",
       "      <td>False</td>\n",
       "      <td>False</td>\n",
       "      <td>False</td>\n",
       "      <td>False</td>\n",
       "      <td>False</td>\n",
       "      <td>False</td>\n",
       "      <td>False</td>\n",
       "    </tr>\n",
       "    <tr>\n",
       "      <th>...</th>\n",
       "      <td>...</td>\n",
       "      <td>...</td>\n",
       "      <td>...</td>\n",
       "      <td>...</td>\n",
       "      <td>...</td>\n",
       "      <td>...</td>\n",
       "      <td>...</td>\n",
       "      <td>...</td>\n",
       "      <td>...</td>\n",
       "      <td>...</td>\n",
       "      <td>...</td>\n",
       "      <td>...</td>\n",
       "      <td>...</td>\n",
       "      <td>...</td>\n",
       "      <td>...</td>\n",
       "      <td>...</td>\n",
       "      <td>...</td>\n",
       "      <td>...</td>\n",
       "      <td>...</td>\n",
       "      <td>...</td>\n",
       "      <td>...</td>\n",
       "    </tr>\n",
       "    <tr>\n",
       "      <th>390</th>\n",
       "      <td>False</td>\n",
       "      <td>False</td>\n",
       "      <td>False</td>\n",
       "      <td>False</td>\n",
       "      <td>False</td>\n",
       "      <td>False</td>\n",
       "      <td>False</td>\n",
       "      <td>False</td>\n",
       "      <td>False</td>\n",
       "      <td>False</td>\n",
       "      <td>...</td>\n",
       "      <td>False</td>\n",
       "      <td>False</td>\n",
       "      <td>False</td>\n",
       "      <td>False</td>\n",
       "      <td>False</td>\n",
       "      <td>False</td>\n",
       "      <td>False</td>\n",
       "      <td>False</td>\n",
       "      <td>False</td>\n",
       "      <td>False</td>\n",
       "    </tr>\n",
       "    <tr>\n",
       "      <th>391</th>\n",
       "      <td>False</td>\n",
       "      <td>False</td>\n",
       "      <td>False</td>\n",
       "      <td>False</td>\n",
       "      <td>False</td>\n",
       "      <td>False</td>\n",
       "      <td>False</td>\n",
       "      <td>False</td>\n",
       "      <td>False</td>\n",
       "      <td>False</td>\n",
       "      <td>...</td>\n",
       "      <td>False</td>\n",
       "      <td>False</td>\n",
       "      <td>True</td>\n",
       "      <td>False</td>\n",
       "      <td>False</td>\n",
       "      <td>False</td>\n",
       "      <td>False</td>\n",
       "      <td>False</td>\n",
       "      <td>False</td>\n",
       "      <td>False</td>\n",
       "    </tr>\n",
       "    <tr>\n",
       "      <th>392</th>\n",
       "      <td>False</td>\n",
       "      <td>False</td>\n",
       "      <td>False</td>\n",
       "      <td>False</td>\n",
       "      <td>False</td>\n",
       "      <td>False</td>\n",
       "      <td>False</td>\n",
       "      <td>False</td>\n",
       "      <td>False</td>\n",
       "      <td>False</td>\n",
       "      <td>...</td>\n",
       "      <td>False</td>\n",
       "      <td>False</td>\n",
       "      <td>False</td>\n",
       "      <td>False</td>\n",
       "      <td>False</td>\n",
       "      <td>False</td>\n",
       "      <td>False</td>\n",
       "      <td>False</td>\n",
       "      <td>False</td>\n",
       "      <td>False</td>\n",
       "    </tr>\n",
       "    <tr>\n",
       "      <th>393</th>\n",
       "      <td>False</td>\n",
       "      <td>False</td>\n",
       "      <td>False</td>\n",
       "      <td>False</td>\n",
       "      <td>False</td>\n",
       "      <td>False</td>\n",
       "      <td>False</td>\n",
       "      <td>False</td>\n",
       "      <td>False</td>\n",
       "      <td>False</td>\n",
       "      <td>...</td>\n",
       "      <td>False</td>\n",
       "      <td>False</td>\n",
       "      <td>True</td>\n",
       "      <td>False</td>\n",
       "      <td>False</td>\n",
       "      <td>False</td>\n",
       "      <td>False</td>\n",
       "      <td>False</td>\n",
       "      <td>False</td>\n",
       "      <td>False</td>\n",
       "    </tr>\n",
       "    <tr>\n",
       "      <th>394</th>\n",
       "      <td>False</td>\n",
       "      <td>False</td>\n",
       "      <td>False</td>\n",
       "      <td>False</td>\n",
       "      <td>False</td>\n",
       "      <td>False</td>\n",
       "      <td>False</td>\n",
       "      <td>False</td>\n",
       "      <td>False</td>\n",
       "      <td>False</td>\n",
       "      <td>...</td>\n",
       "      <td>False</td>\n",
       "      <td>False</td>\n",
       "      <td>False</td>\n",
       "      <td>False</td>\n",
       "      <td>False</td>\n",
       "      <td>False</td>\n",
       "      <td>False</td>\n",
       "      <td>False</td>\n",
       "      <td>False</td>\n",
       "      <td>False</td>\n",
       "    </tr>\n",
       "  </tbody>\n",
       "</table>\n",
       "<p>395 rows × 32 columns</p>\n",
       "</div>"
      ],
      "text/plain": [
       "        ID  school    sex    age  address  famsize  Pstatus   Medu   Fedu  \\\n",
       "0    False   False  False  False    False    False    False  False  False   \n",
       "1    False   False  False  False    False    False    False  False  False   \n",
       "2    False   False  False  False    False    False    False  False  False   \n",
       "3    False   False  False  False    False    False    False  False  False   \n",
       "4    False   False  False  False    False    False    False  False  False   \n",
       "..     ...     ...    ...    ...      ...      ...      ...    ...    ...   \n",
       "390  False   False  False  False    False    False    False  False  False   \n",
       "391  False   False  False  False    False    False    False  False  False   \n",
       "392  False   False  False  False    False    False    False  False  False   \n",
       "393  False   False  False  False    False    False    False  False  False   \n",
       "394  False   False  False  False    False    False    False  False  False   \n",
       "\n",
       "      Mjob  ...  internet  romantic  famrel  freetime  goout   Dalc   Walc  \\\n",
       "0    False  ...     False     False    True     False  False  False  False   \n",
       "1    False  ...     False     False    True     False  False  False  False   \n",
       "2    False  ...     False     False    True     False  False  False  False   \n",
       "3    False  ...     False     False   False     False  False  False  False   \n",
       "4    False  ...     False     False   False     False  False  False  False   \n",
       "..     ...  ...       ...       ...     ...       ...    ...    ...    ...   \n",
       "390  False  ...     False     False   False     False  False  False  False   \n",
       "391  False  ...     False     False    True     False  False  False  False   \n",
       "392  False  ...     False     False   False     False  False  False  False   \n",
       "393  False  ...     False     False    True     False  False  False  False   \n",
       "394  False  ...     False     False   False     False  False  False  False   \n",
       "\n",
       "     health  absences  Grade  \n",
       "0     False      True  False  \n",
       "1     False      True  False  \n",
       "2     False     False  False  \n",
       "3     False     False  False  \n",
       "4     False     False  False  \n",
       "..      ...       ...    ...  \n",
       "390   False     False  False  \n",
       "391   False     False  False  \n",
       "392   False     False  False  \n",
       "393   False     False  False  \n",
       "394   False     False  False  \n",
       "\n",
       "[395 rows x 32 columns]"
      ]
     },
     "execution_count": 7,
     "metadata": {},
     "output_type": "execute_result"
    }
   ],
   "source": [
    "data.isnull()"
   ]
  },
  {
   "cell_type": "markdown",
   "metadata": {
    "id": "6dtKlAn2U6f6"
   },
   "source": [
    "\n",
    "\n",
    "---\n",
    "\n",
    "\n",
    "\n",
    "---\n",
    "\n",
    "***To check the total count of missing values in each column, you can do as follows.***"
   ]
  },
  {
   "cell_type": "code",
   "execution_count": 8,
   "metadata": {
    "ExecuteTime": {
     "end_time": "2022-11-22T17:46:23.071452Z",
     "start_time": "2022-11-22T17:46:23.058485Z"
    },
    "colab": {
     "base_uri": "https://localhost:8080/",
     "height": 571
    },
    "executionInfo": {
     "elapsed": 1291,
     "status": "ok",
     "timestamp": 1556713116005,
     "user": {
      "displayName": "Lakshay Arora",
      "photoUrl": "https://lh4.googleusercontent.com/-8hnjOv9686A/AAAAAAAAAAI/AAAAAAAADd0/K8X2T4t_X3k/s64/photo.jpg",
      "userId": "14566896705704975507"
     },
     "user_tz": -330
    },
    "id": "R9w6AmjvU1Pp",
    "outputId": "a0437279-f140-4c68-c4f6-88b4bb54d207"
   },
   "outputs": [
    {
     "data": {
      "text/plain": [
       "ID              0\n",
       "school          0\n",
       "sex             0\n",
       "age             0\n",
       "address         0\n",
       "famsize         0\n",
       "Pstatus         0\n",
       "Medu            0\n",
       "Fedu            0\n",
       "Mjob            0\n",
       "Fjob            0\n",
       "reason          0\n",
       "guardian        0\n",
       "traveltime      0\n",
       "studytime       0\n",
       "failures        0\n",
       "schoolsup       0\n",
       "famsup          0\n",
       "paid            0\n",
       "activities     84\n",
       "nursery         0\n",
       "higher          0\n",
       "internet        0\n",
       "romantic        0\n",
       "famrel        117\n",
       "freetime        0\n",
       "goout           0\n",
       "Dalc            0\n",
       "Walc            0\n",
       "health          0\n",
       "absences       58\n",
       "Grade           0\n",
       "dtype: int64"
      ]
     },
     "execution_count": 8,
     "metadata": {},
     "output_type": "execute_result"
    }
   ],
   "source": [
    "data.isnull().sum()"
   ]
  },
  {
   "cell_type": "markdown",
   "metadata": {
    "id": "nRmeiDRCVUYV"
   },
   "source": [
    "\n",
    "\n",
    "---\n",
    "\n",
    "\n",
    "\n",
    "---\n",
    "\n",
    "***Which are the methods to treat missing values ?***\n",
    "\n",
    "There are two main methods for dealing with missing values:\n",
    "\n",
    "* ***Deletion***\n",
    "* ***Imputation***"
   ]
  },
  {
   "cell_type": "markdown",
   "metadata": {
    "id": "w5ndUzWVVt6t"
   },
   "source": [
    "***Deletion:***\n",
    "\n",
    "* Deletion is the easiest method to deal with missing values. Deletion methods are used when the nature of missing data is “Missing completely at random” else non random missing values can bias the model output.\n",
    "\n",
    "* One logical way of deletion is list wise deletion. In list wise deletion, we delete observations where any of the variable is missing. Simplicity is one of the major advantage of this method, but this method reduces the power of model because it reduces the sample size."
   ]
  },
  {
   "cell_type": "code",
   "execution_count": 9,
   "metadata": {
    "ExecuteTime": {
     "end_time": "2022-11-22T17:46:23.086752Z",
     "start_time": "2022-11-22T17:46:23.073487Z"
    },
    "id": "a5-Jlco1VQvx"
   },
   "outputs": [],
   "source": [
    "# drop all the missing values and store resultant data in result variable\n",
    "result = data.dropna(how='any')"
   ]
  },
  {
   "cell_type": "code",
   "execution_count": 10,
   "metadata": {
    "ExecuteTime": {
     "end_time": "2022-11-22T17:46:23.102754Z",
     "start_time": "2022-11-22T17:46:23.087749Z"
    },
    "colab": {
     "base_uri": "https://localhost:8080/",
     "height": 571
    },
    "executionInfo": {
     "elapsed": 1228,
     "status": "ok",
     "timestamp": 1556713280672,
     "user": {
      "displayName": "Lakshay Arora",
      "photoUrl": "https://lh4.googleusercontent.com/-8hnjOv9686A/AAAAAAAAAAI/AAAAAAAADd0/K8X2T4t_X3k/s64/photo.jpg",
      "userId": "14566896705704975507"
     },
     "user_tz": -330
    },
    "id": "OUsS-Y_-V2qu",
    "outputId": "ed53b4e5-d7a4-457f-a5b1-db2eb299528e"
   },
   "outputs": [
    {
     "data": {
      "text/plain": [
       "ID            0\n",
       "school        0\n",
       "sex           0\n",
       "age           0\n",
       "address       0\n",
       "famsize       0\n",
       "Pstatus       0\n",
       "Medu          0\n",
       "Fedu          0\n",
       "Mjob          0\n",
       "Fjob          0\n",
       "reason        0\n",
       "guardian      0\n",
       "traveltime    0\n",
       "studytime     0\n",
       "failures      0\n",
       "schoolsup     0\n",
       "famsup        0\n",
       "paid          0\n",
       "activities    0\n",
       "nursery       0\n",
       "higher        0\n",
       "internet      0\n",
       "romantic      0\n",
       "famrel        0\n",
       "freetime      0\n",
       "goout         0\n",
       "Dalc          0\n",
       "Walc          0\n",
       "health        0\n",
       "absences      0\n",
       "Grade         0\n",
       "dtype: int64"
      ]
     },
     "execution_count": 10,
     "metadata": {},
     "output_type": "execute_result"
    }
   ],
   "source": [
    "# check null values in the final dataframe\n",
    "result.isnull().sum()"
   ]
  },
  {
   "cell_type": "code",
   "execution_count": 11,
   "metadata": {
    "ExecuteTime": {
     "end_time": "2022-11-22T17:46:23.118151Z",
     "start_time": "2022-11-22T17:46:23.103752Z"
    },
    "colab": {
     "base_uri": "https://localhost:8080/",
     "height": 50
    },
    "executionInfo": {
     "elapsed": 1387,
     "status": "ok",
     "timestamp": 1556713461321,
     "user": {
      "displayName": "Lakshay Arora",
      "photoUrl": "https://lh4.googleusercontent.com/-8hnjOv9686A/AAAAAAAAAAI/AAAAAAAADd0/K8X2T4t_X3k/s64/photo.jpg",
      "userId": "14566896705704975507"
     },
     "user_tz": -330
    },
    "id": "o8vS97N9V49m",
    "outputId": "75369a33-bf4e-4ced-83fd-6fbf2ba638f5"
   },
   "outputs": [
    {
     "name": "stdout",
     "output_type": "stream",
     "text": [
      "The shape of data before removing the missing values :  (395, 32)\n",
      "The shape of data after removing the missing values :  (182, 32)\n"
     ]
    }
   ],
   "source": [
    "# print the dimensions of the data before and after removing the missing values\n",
    "\n",
    "print('The shape of data before removing the missing values : ', data.shape)\n",
    "\n",
    "print('The shape of data after removing the missing values : ', result.shape)"
   ]
  },
  {
   "cell_type": "markdown",
   "metadata": {
    "id": "hHB2RypPW4UE"
   },
   "source": [
    "\n",
    "\n",
    "---\n",
    "\n",
    "\n",
    "\n",
    "---\n",
    "\n",
    "\n",
    "***Imputation:***\n",
    "\n",
    "* Imputation is a method to fill in the missing values with estimated ones. \n",
    "* The objective is to employ known relationships that can be identified in the valid values of the dataset to assist in estimating the missing values. \n",
    "* Mean / Mode / Median imputation is one of the most frequently used methods. It can be of two types:-"
   ]
  },
  {
   "cell_type": "markdown",
   "metadata": {
    "id": "E90rbsSGXdDt"
   },
   "source": [
    "***Imputation of continuous missing values***\n",
    "\n",
    "It consists of replacing the missing data for a given quantitative attribute by the mean or median of all known values of that variable."
   ]
  },
  {
   "cell_type": "code",
   "execution_count": 12,
   "metadata": {
    "ExecuteTime": {
     "end_time": "2022-11-22T17:46:23.133604Z",
     "start_time": "2022-11-22T17:46:23.119157Z"
    },
    "colab": {
     "base_uri": "https://localhost:8080/",
     "height": 118
    },
    "executionInfo": {
     "elapsed": 1282,
     "status": "ok",
     "timestamp": 1556713817263,
     "user": {
      "displayName": "Lakshay Arora",
      "photoUrl": "https://lh4.googleusercontent.com/-8hnjOv9686A/AAAAAAAAAAI/AAAAAAAADd0/K8X2T4t_X3k/s64/photo.jpg",
      "userId": "14566896705704975507"
     },
     "user_tz": -330
    },
    "id": "5zthvdn6WlBQ",
    "outputId": "0d5d37ca-d4d8-44cd-a0ce-28391848ac7d"
   },
   "outputs": [
    {
     "data": {
      "text/plain": [
       "0     NaN\n",
       "1     NaN\n",
       "2    10.0\n",
       "3     2.0\n",
       "4     4.0\n",
       "Name: absences, dtype: float64"
      ]
     },
     "execution_count": 12,
     "metadata": {},
     "output_type": "execute_result"
    }
   ],
   "source": [
    "# original distribution of missing values\n",
    "data.absences.head()"
   ]
  },
  {
   "cell_type": "code",
   "execution_count": 13,
   "metadata": {
    "ExecuteTime": {
     "end_time": "2022-11-22T17:46:23.149760Z",
     "start_time": "2022-11-22T17:46:23.135277Z"
    },
    "colab": {
     "base_uri": "https://localhost:8080/",
     "height": 118
    },
    "executionInfo": {
     "elapsed": 1291,
     "status": "ok",
     "timestamp": 1556713843065,
     "user": {
      "displayName": "Lakshay Arora",
      "photoUrl": "https://lh4.googleusercontent.com/-8hnjOv9686A/AAAAAAAAAAI/AAAAAAAADd0/K8X2T4t_X3k/s64/photo.jpg",
      "userId": "14566896705704975507"
     },
     "user_tz": -330
    },
    "id": "yjJm0_uhXsId",
    "outputId": "3a312edf-4ff7-493e-f59f-056b04e4d280"
   },
   "outputs": [
    {
     "data": {
      "text/plain": [
       "0     5.866469\n",
       "1     5.866469\n",
       "2    10.000000\n",
       "3     2.000000\n",
       "4     4.000000\n",
       "Name: absences, dtype: float64"
      ]
     },
     "execution_count": 13,
     "metadata": {},
     "output_type": "execute_result"
    }
   ],
   "source": [
    "# result after imputation\n",
    "result = data['absences'].fillna(data.absences.mean())\n",
    "result.head() "
   ]
  },
  {
   "cell_type": "markdown",
   "metadata": {
    "id": "SvfVFCqNYG81"
   },
   "source": [
    "***Imputation for categorical missing values***\n",
    "\n",
    "It consists of replacing the missing data for a given qualitative attribute by mode of all known values of that variable."
   ]
  },
  {
   "cell_type": "code",
   "execution_count": 14,
   "metadata": {
    "ExecuteTime": {
     "end_time": "2022-11-22T17:46:23.165381Z",
     "start_time": "2022-11-22T17:46:23.150705Z"
    },
    "colab": {
     "base_uri": "https://localhost:8080/",
     "height": 34
    },
    "executionInfo": {
     "elapsed": 1540,
     "status": "ok",
     "timestamp": 1556713880552,
     "user": {
      "displayName": "Lakshay Arora",
      "photoUrl": "https://lh4.googleusercontent.com/-8hnjOv9686A/AAAAAAAAAAI/AAAAAAAADd0/K8X2T4t_X3k/s64/photo.jpg",
      "userId": "14566896705704975507"
     },
     "user_tz": -330
    },
    "id": "8zsCp_qJYBBG",
    "outputId": "c56a6b4f-f6f9-41ad-e26f-d51231bdc1d8"
   },
   "outputs": [
    {
     "data": {
      "text/plain": [
       "'yes'"
      ]
     },
     "execution_count": 14,
     "metadata": {},
     "output_type": "execute_result"
    }
   ],
   "source": [
    "# finding mode of categorical variable \"activities\"\n",
    "data.activities.mode()[0]"
   ]
  },
  {
   "cell_type": "code",
   "execution_count": 15,
   "metadata": {
    "ExecuteTime": {
     "end_time": "2022-11-22T17:46:23.180816Z",
     "start_time": "2022-11-22T17:46:23.167381Z"
    },
    "colab": {
     "base_uri": "https://localhost:8080/",
     "height": 118
    },
    "executionInfo": {
     "elapsed": 1259,
     "status": "ok",
     "timestamp": 1556713919865,
     "user": {
      "displayName": "Lakshay Arora",
      "photoUrl": "https://lh4.googleusercontent.com/-8hnjOv9686A/AAAAAAAAAAI/AAAAAAAADd0/K8X2T4t_X3k/s64/photo.jpg",
      "userId": "14566896705704975507"
     },
     "user_tz": -330
    },
    "id": "uzfNmsLHYLVc",
    "outputId": "8cf1965c-de5b-456d-8583-6998e1ec2378"
   },
   "outputs": [
    {
     "data": {
      "text/plain": [
       "0     no\n",
       "1     no\n",
       "2     no\n",
       "3    yes\n",
       "4    yes\n",
       "Name: activities, dtype: object"
      ]
     },
     "execution_count": 15,
     "metadata": {},
     "output_type": "execute_result"
    }
   ],
   "source": [
    "# fill the missing values in 'activities' with the mode and store resultant datafram in result variable\n",
    "result = data.activities.fillna(data.activities.mode()[0])\n",
    "result.head()"
   ]
  },
  {
   "cell_type": "markdown",
   "metadata": {
    "id": "H4LckmLBYjnM"
   },
   "source": [
    "***Impute missing values for column \"famrel\".***"
   ]
  },
  {
   "cell_type": "markdown",
   "metadata": {
    "id": "09ndGwTXZNad"
   },
   "source": [
    "\n",
    "\n",
    "---\n",
    "\n",
    "\n",
    "\n",
    "---\n",
    "\n",
    "\n",
    "***What is Outlier?***\n",
    "\n",
    "\n",
    "\n",
    "---\n",
    "\n",
    "\n",
    "\n",
    "---\n",
    "\n",
    "\n",
    "***Outlier is a commonly used terminology by analysts and data scientists as it needs close attention else it can result in major wrong estimations. To simplify it further, Outlier is an observation that appears far away and diverges from an overall pattern in a sample.***\n",
    "\n",
    "***Let’s take an example, we do customer profiling and find out that the average annual income of customers is 0.8 million. But, there are two customers having annual income of 4 million and 4.2 million. The annual income of these two customers is much higher than rest of the population. These two observations are considered as Outliers***\n",
    "\n",
    "\n",
    "![alt text](https://s3-ap-south-1.amazonaws.com/av-blog-media/wp-content/uploads/2019/02/Outliers.jpeg)"
   ]
  },
  {
   "cell_type": "markdown",
   "metadata": {
    "id": "N5OSk9fnaeNF"
   },
   "source": [
    "\n",
    "\n",
    "\n",
    "---\n",
    "\n",
    "\n",
    "---\n",
    "\n",
    "***Why do outliers occur?***\n",
    "\n",
    "***Whenever we come across outliers, the ideal way to deal with them is to find out the reason of having these outliers. The method to deal with them would then depend on the reason of their occurrence. Causes of outliers can be classified in two broad categories:***\n",
    "\n",
    "* Artificial (Error) / Non-natural\n",
    "* Natural\n",
    "\n",
    "***Let’s understand various types of outliers in more detail:***\n",
    "\n",
    "***Data Entry Errors***\n",
    "\n",
    "Human errors such as errors caused during data collection, recording, or entry can cause outliers in data. For example: Annual income of a customer is  100000.𝐴𝑐𝑐𝑖𝑑𝑒𝑛𝑡𝑎𝑙𝑙𝑦,𝑡ℎ𝑒𝑑𝑎𝑡𝑎𝑒𝑛𝑡𝑟𝑦𝑜𝑝𝑒𝑟𝑎𝑡𝑜𝑟𝑝𝑢𝑡𝑠𝑎𝑛𝑎𝑑𝑑𝑖𝑡𝑖𝑜𝑛𝑎𝑙𝑧𝑒𝑟𝑜𝑖𝑛𝑡ℎ𝑒𝑓𝑖𝑔𝑢𝑟𝑒.𝑁𝑜𝑤𝑡ℎ𝑒𝑖𝑛𝑐𝑜𝑚𝑒𝑏𝑒𝑐𝑜𝑚𝑒𝑠 1000000 which is 10 times higher than the original income. Evidently, this will be the outlier value when compared with rest of the population.\n",
    "\n",
    "***Measurement Error***\n",
    "\n",
    "It is the most common source of outliers. This error will occur when the used measuring instrument turns out to be faulty. For example: There are 10 weighing machines. 9 of them weighing correctly where as 1 of the machine is faulty. Weight measured by people on the faulty machine will be higher / lower than the weight measured by rest of people in the group. The weights measured on faulty machine can lead to outliers.\n",
    "\n",
    "***Experimental Error***\n",
    "\n",
    "Another cause of outliers is experimental error. For example: In a 100m sprint involving 7 runners - A, B, C, D, E, F & G. Runner A missed out on the ‘Go’ call and started late. Hence, this caused the time taken by runner A more than the time taken by other runners. The total run time of runner A can be an outlier.\n",
    "\n",
    "***Intentional Outlier***\n",
    "\n",
    "This is commonly found in self-reported measures that involves sensitive data. For example: Teens are more likely to under report the amount of alcohol they have consumed. Only a fraction of them will reveal the actual quantity. Here the actual quantity might look like outliers because rest of the teens are under reporting the consumption.\n",
    "\n",
    "***Data Processing Error***\n",
    "\n",
    "Whenever we perform data mining, we extract data from multiple sources. It is possible that some manipulation or extraction errors may lead to outliers in the dataset.\n",
    "\n",
    "***Sampling error***\n",
    "\n",
    "For instance, we have to measure the height of runners. By mistake, we include a few basketball players in the sample. This inclusion is likely to cause outliers in the dataset.\n",
    "\n",
    "***Natural Outlier***\n",
    "\n",
    "When an outlier is not artificial (due to error), it is a natural outlier. For instance: In my last assignment with one of the renowned insurance company, I noticed that the performance of top 50 financial advisors was far higher than rest of the population. Surprisingly, it was not due to any error. Hence, whenever we perform any data mining activity with advisors, we treat this segment separately."
   ]
  },
  {
   "cell_type": "markdown",
   "metadata": {
    "id": "XtJVlwrXbano"
   },
   "source": [
    "\n",
    "\n",
    "---\n",
    "\n",
    "\n",
    "\n",
    "---\n",
    "\n",
    "***Impact of Outliers***\n",
    "\n",
    "Outliers can drastically change the results of the data analysis and statistical modeling. There are numerous unfavourable impacts of outliers in the dataset:\n",
    "\n",
    "* It increases the error variance and reduces the power of statistical tests\n",
    "* If the outliers are non-randomly distributed, they can decrease normality\n",
    "* They can bias or influence estimates that may be of substantive interest\n",
    "* They can also impact the basic assumption of Regression, ANOVA and other statistical model assumptions.\n",
    "* To understand the impact deeply, let’s take an example to check what happens to a dataset with and without outliers.\n",
    "\n",
    "![alt text](https://www.analyticsvidhya.com/wp-content/uploads/2015/02/Outlier_31.png)\n",
    "\n",
    "\n",
    "***As you can see, dataset with outliers has significantly different mean and standard deviation. In the first scenario, we will say that average is 5.45. But with the outlier, average soars to 30. This would change the estimate completely.***"
   ]
  },
  {
   "cell_type": "markdown",
   "metadata": {
    "id": "QMT0WYqXb2hj"
   },
   "source": [
    "\n",
    "\n",
    "---\n",
    "\n",
    "\n",
    "\n",
    "---\n",
    "\n",
    "***How to detect Outliers?***\n",
    "\n",
    "Most commonly used method to detect outliers is visualization. We use various visualization methods, like Box-plot, Histogram, Scatter Plot (above, we have used box plot and scatter plot for visualization)."
   ]
  },
  {
   "cell_type": "code",
   "execution_count": 16,
   "metadata": {
    "ExecuteTime": {
     "end_time": "2022-11-22T17:46:23.292655Z",
     "start_time": "2022-11-22T17:46:23.181858Z"
    },
    "colab": {
     "base_uri": "https://localhost:8080/",
     "height": 286
    },
    "executionInfo": {
     "elapsed": 1539,
     "status": "ok",
     "timestamp": 1556714904778,
     "user": {
      "displayName": "Lakshay Arora",
      "photoUrl": "https://lh4.googleusercontent.com/-8hnjOv9686A/AAAAAAAAAAI/AAAAAAAADd0/K8X2T4t_X3k/s64/photo.jpg",
      "userId": "14566896705704975507"
     },
     "user_tz": -330
    },
    "id": "FjkG8WipYb9J",
    "outputId": "a06fe0b0-c4d9-418b-b5c7-72e5da2935fb"
   },
   "outputs": [
    {
     "data": {
      "text/plain": [
       "<AxesSubplot: >"
      ]
     },
     "execution_count": 16,
     "metadata": {},
     "output_type": "execute_result"
    },
    {
     "data": {
      "image/png": "[encoded data removed]",
      "text/plain": [
       "<Figure size 640x480 with 1 Axes>"
      ]
     },
     "metadata": {},
     "output_type": "display_data"
    }
   ],
   "source": [
    "data.boxplot(column='absences')"
   ]
  },
  {
   "cell_type": "markdown",
   "metadata": {
    "id": "Zn7xt1G7cI1G"
   },
   "source": [
    "***The graph shows that there are some values in the data which exceed the usual values. This is shown by the black circles:***\n",
    "\n",
    "Some analysts use various thumb rules to detect outliers. Some of them are:\n",
    "\n",
    "* Any value, which is beyond the range of -1.5 x IQR to 1.5 x IQR is considered as an outlier.\n",
    "* Use capping methods. Any value out of the range of 5th and 95th percentile can be considered as an outlier\n",
    "* Data points, three or more standard deviation away from mean are considered outlier\n",
    "* Outlier detection is merely a special case of the examination of data for influential data points and it also depends on the business understanding\n",
    "* Bivariate and multivariate outliers are typically measured using either an index of influence or leverage, or distance. Popular indices such as Mahalanobis’ distance and Cook’s D are frequently used to detect outliers."
   ]
  },
  {
   "cell_type": "code",
   "execution_count": 17,
   "metadata": {
    "ExecuteTime": {
     "end_time": "2022-11-22T17:46:23.308393Z",
     "start_time": "2022-11-22T17:46:23.293602Z"
    },
    "id": "75IydSgPcFYu"
   },
   "outputs": [],
   "source": [
    "Q1 = data['absences'].quantile(0.25)\n",
    "Q3 = data['absences'].quantile(0.75)\n",
    "\n",
    "IQR = Q3 - Q1"
   ]
  },
  {
   "cell_type": "code",
   "execution_count": 18,
   "metadata": {
    "ExecuteTime": {
     "end_time": "2022-11-22T17:46:23.340356Z",
     "start_time": "2022-11-22T17:46:23.309395Z"
    },
    "colab": {
     "base_uri": "https://localhost:8080/",
     "height": 490
    },
    "executionInfo": {
     "elapsed": 1435,
     "status": "ok",
     "timestamp": 1556714968023,
     "user": {
      "displayName": "Lakshay Arora",
      "photoUrl": "https://lh4.googleusercontent.com/-8hnjOv9686A/AAAAAAAAAAI/AAAAAAAADd0/K8X2T4t_X3k/s64/photo.jpg",
      "userId": "14566896705704975507"
     },
     "user_tz": -330
    },
    "id": "_86noOptcR8C",
    "outputId": "0bf9676b-ac37-469f-fb04-beb6758eb240"
   },
   "outputs": [
    {
     "data": {
      "text/html": [
       "<div>\n",
       "<style scoped>\n",
       "    .dataframe tbody tr th:only-of-type {\n",
       "        vertical-align: middle;\n",
       "    }\n",
       "\n",
       "    .dataframe tbody tr th {\n",
       "        vertical-align: top;\n",
       "    }\n",
       "\n",
       "    .dataframe thead th {\n",
       "        text-align: right;\n",
       "    }\n",
       "</style>\n",
       "<table border=\"1\" class=\"dataframe\">\n",
       "  <thead>\n",
       "    <tr style=\"text-align: right;\">\n",
       "      <th></th>\n",
       "      <th>ID</th>\n",
       "      <th>school</th>\n",
       "      <th>sex</th>\n",
       "      <th>age</th>\n",
       "      <th>address</th>\n",
       "      <th>famsize</th>\n",
       "      <th>Pstatus</th>\n",
       "      <th>Medu</th>\n",
       "      <th>Fedu</th>\n",
       "      <th>Mjob</th>\n",
       "      <th>...</th>\n",
       "      <th>internet</th>\n",
       "      <th>romantic</th>\n",
       "      <th>famrel</th>\n",
       "      <th>freetime</th>\n",
       "      <th>goout</th>\n",
       "      <th>Dalc</th>\n",
       "      <th>Walc</th>\n",
       "      <th>health</th>\n",
       "      <th>absences</th>\n",
       "      <th>Grade</th>\n",
       "    </tr>\n",
       "  </thead>\n",
       "  <tbody>\n",
       "    <tr>\n",
       "      <th>74</th>\n",
       "      <td>SD0075</td>\n",
       "      <td>GP</td>\n",
       "      <td>F</td>\n",
       "      <td>16</td>\n",
       "      <td>U</td>\n",
       "      <td>GT3</td>\n",
       "      <td>T</td>\n",
       "      <td>3</td>\n",
       "      <td>3</td>\n",
       "      <td>other</td>\n",
       "      <td>...</td>\n",
       "      <td>yes</td>\n",
       "      <td>no</td>\n",
       "      <td>4.0</td>\n",
       "      <td>3</td>\n",
       "      <td>3</td>\n",
       "      <td>2</td>\n",
       "      <td>4</td>\n",
       "      <td>5</td>\n",
       "      <td>54.0</td>\n",
       "      <td>3</td>\n",
       "    </tr>\n",
       "    <tr>\n",
       "      <th>103</th>\n",
       "      <td>SD0104</td>\n",
       "      <td>GP</td>\n",
       "      <td>F</td>\n",
       "      <td>15</td>\n",
       "      <td>U</td>\n",
       "      <td>GT3</td>\n",
       "      <td>T</td>\n",
       "      <td>3</td>\n",
       "      <td>2</td>\n",
       "      <td>services</td>\n",
       "      <td>...</td>\n",
       "      <td>yes</td>\n",
       "      <td>no</td>\n",
       "      <td>4.0</td>\n",
       "      <td>3</td>\n",
       "      <td>5</td>\n",
       "      <td>1</td>\n",
       "      <td>1</td>\n",
       "      <td>2</td>\n",
       "      <td>26.0</td>\n",
       "      <td>1</td>\n",
       "    </tr>\n",
       "    <tr>\n",
       "      <th>183</th>\n",
       "      <td>SD0184</td>\n",
       "      <td>GP</td>\n",
       "      <td>F</td>\n",
       "      <td>17</td>\n",
       "      <td>U</td>\n",
       "      <td>LE3</td>\n",
       "      <td>T</td>\n",
       "      <td>3</td>\n",
       "      <td>3</td>\n",
       "      <td>other</td>\n",
       "      <td>...</td>\n",
       "      <td>yes</td>\n",
       "      <td>yes</td>\n",
       "      <td>5.0</td>\n",
       "      <td>3</td>\n",
       "      <td>3</td>\n",
       "      <td>2</td>\n",
       "      <td>3</td>\n",
       "      <td>1</td>\n",
       "      <td>56.0</td>\n",
       "      <td>2</td>\n",
       "    </tr>\n",
       "    <tr>\n",
       "      <th>198</th>\n",
       "      <td>SD0199</td>\n",
       "      <td>GP</td>\n",
       "      <td>F</td>\n",
       "      <td>17</td>\n",
       "      <td>U</td>\n",
       "      <td>GT3</td>\n",
       "      <td>T</td>\n",
       "      <td>4</td>\n",
       "      <td>4</td>\n",
       "      <td>services</td>\n",
       "      <td>...</td>\n",
       "      <td>yes</td>\n",
       "      <td>no</td>\n",
       "      <td>4.0</td>\n",
       "      <td>2</td>\n",
       "      <td>4</td>\n",
       "      <td>2</td>\n",
       "      <td>3</td>\n",
       "      <td>2</td>\n",
       "      <td>24.0</td>\n",
       "      <td>3</td>\n",
       "    </tr>\n",
       "    <tr>\n",
       "      <th>205</th>\n",
       "      <td>SD0206</td>\n",
       "      <td>GP</td>\n",
       "      <td>F</td>\n",
       "      <td>17</td>\n",
       "      <td>U</td>\n",
       "      <td>GT3</td>\n",
       "      <td>T</td>\n",
       "      <td>3</td>\n",
       "      <td>4</td>\n",
       "      <td>at_home</td>\n",
       "      <td>...</td>\n",
       "      <td>yes</td>\n",
       "      <td>yes</td>\n",
       "      <td>4.0</td>\n",
       "      <td>4</td>\n",
       "      <td>3</td>\n",
       "      <td>3</td>\n",
       "      <td>4</td>\n",
       "      <td>5</td>\n",
       "      <td>28.0</td>\n",
       "      <td>2</td>\n",
       "    </tr>\n",
       "    <tr>\n",
       "      <th>216</th>\n",
       "      <td>SD0217</td>\n",
       "      <td>GP</td>\n",
       "      <td>F</td>\n",
       "      <td>17</td>\n",
       "      <td>U</td>\n",
       "      <td>GT3</td>\n",
       "      <td>T</td>\n",
       "      <td>4</td>\n",
       "      <td>3</td>\n",
       "      <td>other</td>\n",
       "      <td>...</td>\n",
       "      <td>yes</td>\n",
       "      <td>yes</td>\n",
       "      <td>NaN</td>\n",
       "      <td>4</td>\n",
       "      <td>5</td>\n",
       "      <td>2</td>\n",
       "      <td>4</td>\n",
       "      <td>1</td>\n",
       "      <td>22.0</td>\n",
       "      <td>1</td>\n",
       "    </tr>\n",
       "    <tr>\n",
       "      <th>260</th>\n",
       "      <td>SD0261</td>\n",
       "      <td>GP</td>\n",
       "      <td>F</td>\n",
       "      <td>18</td>\n",
       "      <td>U</td>\n",
       "      <td>GT3</td>\n",
       "      <td>T</td>\n",
       "      <td>4</td>\n",
       "      <td>3</td>\n",
       "      <td>services</td>\n",
       "      <td>...</td>\n",
       "      <td>yes</td>\n",
       "      <td>yes</td>\n",
       "      <td>3.0</td>\n",
       "      <td>1</td>\n",
       "      <td>2</td>\n",
       "      <td>1</td>\n",
       "      <td>3</td>\n",
       "      <td>2</td>\n",
       "      <td>21.0</td>\n",
       "      <td>3</td>\n",
       "    </tr>\n",
       "    <tr>\n",
       "      <th>276</th>\n",
       "      <td>SD0277</td>\n",
       "      <td>GP</td>\n",
       "      <td>F</td>\n",
       "      <td>18</td>\n",
       "      <td>R</td>\n",
       "      <td>GT3</td>\n",
       "      <td>A</td>\n",
       "      <td>3</td>\n",
       "      <td>2</td>\n",
       "      <td>other</td>\n",
       "      <td>...</td>\n",
       "      <td>yes</td>\n",
       "      <td>yes</td>\n",
       "      <td>4.0</td>\n",
       "      <td>1</td>\n",
       "      <td>1</td>\n",
       "      <td>1</td>\n",
       "      <td>1</td>\n",
       "      <td>5</td>\n",
       "      <td>75.0</td>\n",
       "      <td>2</td>\n",
       "    </tr>\n",
       "    <tr>\n",
       "      <th>277</th>\n",
       "      <td>SD0278</td>\n",
       "      <td>GP</td>\n",
       "      <td>M</td>\n",
       "      <td>18</td>\n",
       "      <td>U</td>\n",
       "      <td>GT3</td>\n",
       "      <td>T</td>\n",
       "      <td>4</td>\n",
       "      <td>4</td>\n",
       "      <td>teacher</td>\n",
       "      <td>...</td>\n",
       "      <td>yes</td>\n",
       "      <td>no</td>\n",
       "      <td>3.0</td>\n",
       "      <td>2</td>\n",
       "      <td>4</td>\n",
       "      <td>1</td>\n",
       "      <td>4</td>\n",
       "      <td>3</td>\n",
       "      <td>22.0</td>\n",
       "      <td>2</td>\n",
       "    </tr>\n",
       "    <tr>\n",
       "      <th>280</th>\n",
       "      <td>SD0281</td>\n",
       "      <td>GP</td>\n",
       "      <td>M</td>\n",
       "      <td>17</td>\n",
       "      <td>U</td>\n",
       "      <td>LE3</td>\n",
       "      <td>A</td>\n",
       "      <td>4</td>\n",
       "      <td>1</td>\n",
       "      <td>services</td>\n",
       "      <td>...</td>\n",
       "      <td>yes</td>\n",
       "      <td>yes</td>\n",
       "      <td>NaN</td>\n",
       "      <td>5</td>\n",
       "      <td>4</td>\n",
       "      <td>2</td>\n",
       "      <td>4</td>\n",
       "      <td>5</td>\n",
       "      <td>30.0</td>\n",
       "      <td>2</td>\n",
       "    </tr>\n",
       "    <tr>\n",
       "      <th>307</th>\n",
       "      <td>SD0308</td>\n",
       "      <td>GP</td>\n",
       "      <td>M</td>\n",
       "      <td>19</td>\n",
       "      <td>U</td>\n",
       "      <td>GT3</td>\n",
       "      <td>T</td>\n",
       "      <td>4</td>\n",
       "      <td>4</td>\n",
       "      <td>teacher</td>\n",
       "      <td>...</td>\n",
       "      <td>yes</td>\n",
       "      <td>yes</td>\n",
       "      <td>4.0</td>\n",
       "      <td>3</td>\n",
       "      <td>4</td>\n",
       "      <td>1</td>\n",
       "      <td>1</td>\n",
       "      <td>4</td>\n",
       "      <td>38.0</td>\n",
       "      <td>2</td>\n",
       "    </tr>\n",
       "    <tr>\n",
       "      <th>313</th>\n",
       "      <td>SD0314</td>\n",
       "      <td>GP</td>\n",
       "      <td>F</td>\n",
       "      <td>19</td>\n",
       "      <td>U</td>\n",
       "      <td>LE3</td>\n",
       "      <td>T</td>\n",
       "      <td>3</td>\n",
       "      <td>2</td>\n",
       "      <td>services</td>\n",
       "      <td>...</td>\n",
       "      <td>yes</td>\n",
       "      <td>yes</td>\n",
       "      <td>4.0</td>\n",
       "      <td>2</td>\n",
       "      <td>2</td>\n",
       "      <td>1</td>\n",
       "      <td>2</td>\n",
       "      <td>1</td>\n",
       "      <td>22.0</td>\n",
       "      <td>3</td>\n",
       "    </tr>\n",
       "    <tr>\n",
       "      <th>315</th>\n",
       "      <td>SD0316</td>\n",
       "      <td>GP</td>\n",
       "      <td>F</td>\n",
       "      <td>19</td>\n",
       "      <td>R</td>\n",
       "      <td>GT3</td>\n",
       "      <td>T</td>\n",
       "      <td>2</td>\n",
       "      <td>3</td>\n",
       "      <td>other</td>\n",
       "      <td>...</td>\n",
       "      <td>yes</td>\n",
       "      <td>yes</td>\n",
       "      <td>4.0</td>\n",
       "      <td>1</td>\n",
       "      <td>2</td>\n",
       "      <td>1</td>\n",
       "      <td>1</td>\n",
       "      <td>3</td>\n",
       "      <td>40.0</td>\n",
       "      <td>3</td>\n",
       "    </tr>\n",
       "    <tr>\n",
       "      <th>320</th>\n",
       "      <td>SD0321</td>\n",
       "      <td>GP</td>\n",
       "      <td>F</td>\n",
       "      <td>17</td>\n",
       "      <td>U</td>\n",
       "      <td>GT3</td>\n",
       "      <td>A</td>\n",
       "      <td>4</td>\n",
       "      <td>3</td>\n",
       "      <td>services</td>\n",
       "      <td>...</td>\n",
       "      <td>yes</td>\n",
       "      <td>yes</td>\n",
       "      <td>5.0</td>\n",
       "      <td>2</td>\n",
       "      <td>2</td>\n",
       "      <td>1</td>\n",
       "      <td>2</td>\n",
       "      <td>5</td>\n",
       "      <td>23.0</td>\n",
       "      <td>3</td>\n",
       "    </tr>\n",
       "  </tbody>\n",
       "</table>\n",
       "<p>14 rows × 32 columns</p>\n",
       "</div>"
      ],
      "text/plain": [
       "         ID school sex  age address famsize Pstatus  Medu  Fedu      Mjob  \\\n",
       "74   SD0075     GP   F   16       U     GT3       T     3     3     other   \n",
       "103  SD0104     GP   F   15       U     GT3       T     3     2  services   \n",
       "183  SD0184     GP   F   17       U     LE3       T     3     3     other   \n",
       "198  SD0199     GP   F   17       U     GT3       T     4     4  services   \n",
       "205  SD0206     GP   F   17       U     GT3       T     3     4   at_home   \n",
       "216  SD0217     GP   F   17       U     GT3       T     4     3     other   \n",
       "260  SD0261     GP   F   18       U     GT3       T     4     3  services   \n",
       "276  SD0277     GP   F   18       R     GT3       A     3     2     other   \n",
       "277  SD0278     GP   M   18       U     GT3       T     4     4   teacher   \n",
       "280  SD0281     GP   M   17       U     LE3       A     4     1  services   \n",
       "307  SD0308     GP   M   19       U     GT3       T     4     4   teacher   \n",
       "313  SD0314     GP   F   19       U     LE3       T     3     2  services   \n",
       "315  SD0316     GP   F   19       R     GT3       T     2     3     other   \n",
       "320  SD0321     GP   F   17       U     GT3       A     4     3  services   \n",
       "\n",
       "     ... internet romantic famrel  freetime  goout  Dalc Walc health absences  \\\n",
       "74   ...      yes       no    4.0         3      3     2    4      5     54.0   \n",
       "103  ...      yes       no    4.0         3      5     1    1      2     26.0   \n",
       "183  ...      yes      yes    5.0         3      3     2    3      1     56.0   \n",
       "198  ...      yes       no    4.0         2      4     2    3      2     24.0   \n",
       "205  ...      yes      yes    4.0         4      3     3    4      5     28.0   \n",
       "216  ...      yes      yes    NaN         4      5     2    4      1     22.0   \n",
       "260  ...      yes      yes    3.0         1      2     1    3      2     21.0   \n",
       "276  ...      yes      yes    4.0         1      1     1    1      5     75.0   \n",
       "277  ...      yes       no    3.0         2      4     1    4      3     22.0   \n",
       "280  ...      yes      yes    NaN         5      4     2    4      5     30.0   \n",
       "307  ...      yes      yes    4.0         3      4     1    1      4     38.0   \n",
       "313  ...      yes      yes    4.0         2      2     1    2      1     22.0   \n",
       "315  ...      yes      yes    4.0         1      2     1    1      3     40.0   \n",
       "320  ...      yes      yes    5.0         2      2     1    2      5     23.0   \n",
       "\n",
       "    Grade  \n",
       "74      3  \n",
       "103     1  \n",
       "183     2  \n",
       "198     3  \n",
       "205     2  \n",
       "216     1  \n",
       "260     3  \n",
       "276     2  \n",
       "277     2  \n",
       "280     2  \n",
       "307     2  \n",
       "313     3  \n",
       "315     3  \n",
       "320     3  \n",
       "\n",
       "[14 rows x 32 columns]"
      ]
     },
     "execution_count": 18,
     "metadata": {},
     "output_type": "execute_result"
    }
   ],
   "source": [
    "data[data.absences > Q3 + 1.5*IQR]"
   ]
  },
  {
   "cell_type": "markdown",
   "metadata": {
    "id": "0VxsNh7qca6B"
   },
   "source": [
    "\n",
    "\n",
    "---\n",
    "\n",
    "\n",
    "\n",
    "---\n",
    "\n",
    "***How to deal with Outliers?***\n",
    "\n",
    "Most of the ways to deal with outliers are similar to the methods of missing values like deleting observations, transforming them, binning them, treat them as a separate group, imputing values and other statistical methods. Here, we will discuss the common techniques used to deal with outliers:\n",
    "\n",
    "***Deleting observations***\n",
    "\n",
    "We delete outlier values if it is due to data entry error, data processing error or outlier observations are very small in numbers. We can also use trimming at both ends to remove outliers."
   ]
  },
  {
   "cell_type": "code",
   "execution_count": 19,
   "metadata": {
    "ExecuteTime": {
     "end_time": "2022-11-22T17:46:23.388184Z",
     "start_time": "2022-11-22T17:46:23.342327Z"
    },
    "colab": {
     "base_uri": "https://localhost:8080/",
     "height": 34
    },
    "executionInfo": {
     "elapsed": 1363,
     "status": "ok",
     "timestamp": 1556715056515,
     "user": {
      "displayName": "Lakshay Arora",
      "photoUrl": "https://lh4.googleusercontent.com/-8hnjOv9686A/AAAAAAAAAAI/AAAAAAAADd0/K8X2T4t_X3k/s64/photo.jpg",
      "userId": "14566896705704975507"
     },
     "user_tz": -330
    },
    "id": "0C-HTRdwcU3W",
    "outputId": "bc89340c-fa82-4b83-e0a8-1adc3c4c99b7"
   },
   "outputs": [
    {
     "data": {
      "text/plain": [
       "((395, 32), (323, 32))"
      ]
     },
     "execution_count": 19,
     "metadata": {},
     "output_type": "execute_result"
    }
   ],
   "source": [
    "Q1 = data['absences'].quantile(0.25)\n",
    "Q3 = data['absences'].quantile(0.75)\n",
    "IQR = Q3 - Q1\n",
    "\n",
    "#Values between Q1-1.5IQR and Q3+1.5IQR\n",
    "filtered = data.query('(@Q1 - 1.5 * @IQR) <= absences <= (@Q3 + 1.5 * @IQR)')\n",
    "\n",
    "data.shape, filtered.shape"
   ]
  },
  {
   "cell_type": "markdown",
   "metadata": {
    "id": "4hvrEklMcy2t"
   },
   "source": [
    "\n",
    "\n",
    "---\n",
    "\n",
    "\n",
    "\n",
    "---\n",
    "\n",
    "\n",
    "***Transforming and binning values***\n",
    "\n",
    "\n",
    "---\n",
    "\n",
    "\n",
    "\n",
    "---\n",
    "\n",
    "\n",
    "Transforming variables can also eliminate outliers. Natural log of a value reduces the variation caused by extreme values. Binning is also a form of variable transformation. We can also use the process of assigning weights to different observations."
   ]
  },
  {
   "cell_type": "code",
   "execution_count": 20,
   "metadata": {
    "ExecuteTime": {
     "end_time": "2022-11-22T17:46:23.404169Z",
     "start_time": "2022-11-22T17:46:23.391177Z"
    },
    "colab": {
     "base_uri": "https://localhost:8080/",
     "height": 1075
    },
    "executionInfo": {
     "elapsed": 1136,
     "status": "ok",
     "timestamp": 1556715129209,
     "user": {
      "displayName": "Lakshay Arora",
      "photoUrl": "https://lh4.googleusercontent.com/-8hnjOv9686A/AAAAAAAAAAI/AAAAAAAADd0/K8X2T4t_X3k/s64/photo.jpg",
      "userId": "14566896705704975507"
     },
     "user_tz": -330
    },
    "id": "4AN7NAEZcqeT",
    "outputId": "484de35f-bb63-4228-9e68-8a68777ed9cf"
   },
   "outputs": [
    {
     "data": {
      "text/plain": [
       "0      Adolescent\n",
       "1      Adolescent\n",
       "2           Young\n",
       "3           Young\n",
       "4      Adolescent\n",
       "          ...    \n",
       "390    Adolescent\n",
       "391    Adolescent\n",
       "392        Mature\n",
       "393    Adolescent\n",
       "394    Adolescent\n",
       "Name: age, Length: 395, dtype: category\n",
       "Categories (3, object): ['Young' < 'Adolescent' < 'Mature']"
      ]
     },
     "execution_count": 20,
     "metadata": {},
     "output_type": "execute_result"
    }
   ],
   "source": [
    "pd.cut(data.age, [0, 15, 20, 50], labels=['Young', 'Adolescent', 'Mature'])"
   ]
  },
  {
   "cell_type": "markdown",
   "metadata": {
    "id": "eepI007cdDe4"
   },
   "source": [
    "***Imputing***\n",
    "\n",
    "Like imputation of missing values, we can also impute outliers. We can use mean, median & mode imputation methods. Before imputing values, we should analyse if it is a natural outlier or artificial. If it is artificial, we can go with imputing values."
   ]
  },
  {
   "cell_type": "code",
   "execution_count": 21,
   "metadata": {
    "ExecuteTime": {
     "end_time": "2022-11-22T17:46:23.420099Z",
     "start_time": "2022-11-22T17:46:23.405139Z"
    },
    "id": "Fr6pS7LYc8SE"
   },
   "outputs": [],
   "source": [
    "Q1 = data['absences'].quantile(0.25)\n",
    "Q3 = data['absences'].quantile(0.75)\n",
    "IQR = Q3 - Q1\n",
    "mean_value = data.absences.mean()\n",
    "\n",
    "\n",
    "lower_limit = Q1 - 1.5 * IQR\n",
    "upper_limit = Q3 + 1.5 * IQR\n",
    "\n",
    "def imputer(value):\n",
    "    if value < lower_limit or value > upper_limit:\n",
    "        return mean_value\n",
    "    else:\n",
    "        return value\n",
    "\n",
    "result = data.absences.apply(imputer)"
   ]
  },
  {
   "cell_type": "code",
   "execution_count": 22,
   "metadata": {
    "ExecuteTime": {
     "end_time": "2022-11-22T17:46:23.515901Z",
     "start_time": "2022-11-22T17:46:23.422093Z"
    },
    "colab": {
     "base_uri": "https://localhost:8080/",
     "height": 286
    },
    "executionInfo": {
     "elapsed": 1141,
     "status": "ok",
     "timestamp": 1556715193101,
     "user": {
      "displayName": "Lakshay Arora",
      "photoUrl": "https://lh4.googleusercontent.com/-8hnjOv9686A/AAAAAAAAAAI/AAAAAAAADd0/K8X2T4t_X3k/s64/photo.jpg",
      "userId": "14566896705704975507"
     },
     "user_tz": -330
    },
    "id": "ER56X0N_dJN_",
    "outputId": "975bda5a-7ad9-444f-843e-a4370a3ee6a1"
   },
   "outputs": [
    {
     "data": {
      "text/plain": [
       "<AxesSubplot: >"
      ]
     },
     "execution_count": 22,
     "metadata": {},
     "output_type": "execute_result"
    },
    {
     "data": {
      "image/png": "[encoded data removed]",
      "text/plain": [
       "<Figure size 640x480 with 1 Axes>"
      ]
     },
     "metadata": {},
     "output_type": "display_data"
    }
   ],
   "source": [
    "result.plot(kind='box')"
   ]
  },
  {
   "cell_type": "code",
   "execution_count": 23,
   "metadata": {
    "ExecuteTime": {
     "end_time": "2022-11-22T17:46:23.611645Z",
     "start_time": "2022-11-22T17:46:23.518874Z"
    },
    "colab": {
     "base_uri": "https://localhost:8080/",
     "height": 286
    },
    "executionInfo": {
     "elapsed": 1109,
     "status": "ok",
     "timestamp": 1556715204014,
     "user": {
      "displayName": "Lakshay Arora",
      "photoUrl": "https://lh4.googleusercontent.com/-8hnjOv9686A/AAAAAAAAAAI/AAAAAAAADd0/K8X2T4t_X3k/s64/photo.jpg",
      "userId": "14566896705704975507"
     },
     "user_tz": -330
    },
    "id": "TZrOsp2AdL4q",
    "outputId": "f7c2123a-4c90-453f-d34c-836c1973f443"
   },
   "outputs": [
    {
     "data": {
      "text/plain": [
       "<AxesSubplot: >"
      ]
     },
     "execution_count": 23,
     "metadata": {},
     "output_type": "execute_result"
    },
    {
     "data": {
      "image/png": "[encoded data removed]",
      "text/plain": [
       "<Figure size 640x480 with 1 Axes>"
      ]
     },
     "metadata": {},
     "output_type": "display_data"
    }
   ],
   "source": [
    "data.absences.plot(kind='box')"
   ]
  }
 ],
 "metadata": {
  "colab": {
   "collapsed_sections": [],
   "name": "02_06_Missing_Value_Imputation_and_Outlier_Detection.ipynb",
   "provenance": []
  },
  "kernelspec": {
   "display_name": "Python 3.10.8 ('base')",
   "language": "python",
   "name": "python3"
  },
  "language_info": {
   "codemirror_mode": {
    "name": "ipython",
    "version": 3
   },
   "file_extension": ".py",
   "mimetype": "text/x-python",
   "name": "python",
   "nbconvert_exporter": "python",
   "pygments_lexer": "ipython3",
   "version": "3.10.8"
  },
  "toc": {
   "base_numbering": 1,
   "nav_menu": {},
   "number_sections": false,
   "sideBar": true,
   "skip_h1_title": false,
   "title_cell": "Table of Contents",
   "title_sidebar": "Contents",
   "toc_cell": false,
   "toc_position": {},
   "toc_section_display": true,
   "toc_window_display": false
  },
  "vscode": {
   "interpreter": {
    "hash": "88de068ac20f2ac052e1397e42ac2bde8aea0d8c3ef264a97eba2f953d459172"
   }
  }
 },
 "nbformat": 4,
 "nbformat_minor": 1
}
