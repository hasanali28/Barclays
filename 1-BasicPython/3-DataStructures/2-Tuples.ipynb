{
 "cells": [
  {
   "cell_type": "code",
   "execution_count": 1,
   "metadata": {},
   "outputs": [
    {
     "name": "stdout",
     "output_type": "stream",
     "text": [
      "Monty Python\n"
     ]
    },
    {
     "data": {
      "text/plain": [
       "([1, 2, 3], [1, 2], 5, 'good')"
      ]
     },
     "execution_count": 1,
     "metadata": {},
     "output_type": "execute_result"
    }
   ],
   "source": [
    "# Tuple is a immutable list (final/non-editable), cannot be modified\n",
    "first_tuple = (\"Monty Python\", 30, \"Baker Street\", 5.8, 30)\n",
    "print(first_tuple[0])\n",
    "second_tuple = ([1,2,3],[1,2],5,'good')\n",
    "second_tuple"
   ]
  },
  {
   "cell_type": "code",
   "execution_count": 2,
   "metadata": {},
   "outputs": [
    {
     "name": "stdout",
     "output_type": "stream",
     "text": [
      "('Mumbai', 18.9949521, 72.8141853)\n"
     ]
    }
   ],
   "source": [
    "city_tuple = (\"Mumbai\", 18.9949521, 72.8141853) \n",
    "print(city_tuple)"
   ]
  },
  {
   "cell_type": "code",
   "execution_count": 3,
   "metadata": {},
   "outputs": [
    {
     "name": "stdout",
     "output_type": "stream",
     "text": [
      "('Mumbai', 18.9949521, 72.8141853)\n"
     ]
    }
   ],
   "source": [
    "new_tuple = city_tuple\n",
    "print(new_tuple)"
   ]
  },
  {
   "cell_type": "code",
   "execution_count": null,
   "metadata": {},
   "outputs": [],
   "source": [
    "# new_tuple[1] = 13.8877"
   ]
  },
  {
   "cell_type": "code",
   "execution_count": 4,
   "metadata": {},
   "outputs": [
    {
     "name": "stdout",
     "output_type": "stream",
     "text": [
      "('Mumbai', 18.9949521)\n",
      "2\n"
     ]
    }
   ],
   "source": [
    "b = city_tuple[:-1]\n",
    "print(b)\n",
    "print(len(b))"
   ]
  },
  {
   "cell_type": "code",
   "execution_count": 5,
   "metadata": {
    "scrolled": true
   },
   "outputs": [
    {
     "name": "stdout",
     "output_type": "stream",
     "text": [
      "c is: ['Mumbai', 18.9949521]\n",
      "c is now a tuple: ('Mumbai', 18.9949521)\n"
     ]
    }
   ],
   "source": [
    "c = list(b)\n",
    "print(\"c is: {0} b is {1}\".format(c, b))\n",
    "c= tuple(c)\n",
    "print(\"c is now a tuple: {0}\".format(c))"
   ]
  },
  {
   "cell_type": "code",
   "execution_count": 8,
   "metadata": {},
   "outputs": [
    {
     "name": "stdout",
     "output_type": "stream",
     "text": [
      "c is:  ('Mumbai', 18.9949521) . b is  ('Mumbai', 18.9949521)\n"
     ]
    }
   ],
   "source": [
    "print('c is: ', c, '. b is ', b)"
   ]
  },
  {
   "cell_type": "markdown",
   "metadata": {},
   "source": [
    "https://docs.python.org/3/tutorial/datastructures.html#tuples-and-sequences\n",
    "Can a tuple consist of a list as an element? (Yes/No)"
   ]
  },
  {
   "cell_type": "code",
   "execution_count": 9,
   "metadata": {},
   "outputs": [
    {
     "name": "stdout",
     "output_type": "stream",
     "text": [
      "3\n",
      "(2, 4)\n",
      "4\n"
     ]
    }
   ],
   "source": [
    "t = (1, 2, 4, 3)\n",
    "print(t[3])\n",
    "\n",
    "# t[3] = 5\n",
    "\n",
    "print(t[1:3])\n",
    "\n",
    "print(len(t))"
   ]
  }
 ],
 "metadata": {
  "anaconda-cloud": {},
  "kernelspec": {
   "display_name": "Python 3 (ipykernel)",
   "language": "python",
   "name": "python3"
  },
  "language_info": {
   "codemirror_mode": {
    "name": "ipython",
    "version": 3
   },
   "file_extension": ".py",
   "mimetype": "text/x-python",
   "name": "python",
   "nbconvert_exporter": "python",
   "pygments_lexer": "ipython3",
   "version": "3.9.7"
  }
 },
 "nbformat": 4,
 "nbformat_minor": 1
}
