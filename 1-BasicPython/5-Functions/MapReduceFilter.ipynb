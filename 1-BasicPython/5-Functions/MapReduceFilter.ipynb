{
 "cells": [
  {
   "cell_type": "code",
   "execution_count": 1,
   "metadata": {},
   "outputs": [],
   "source": [
    "first_list = [2, 4, 5]\n",
    "\n",
    "# unsupported operand type(s) for ** or pow(): 'list' and 'int'\n",
    "# print(first_list**2)\n"
   ]
  },
  {
   "cell_type": "code",
   "execution_count": 2,
   "metadata": {},
   "outputs": [],
   "source": [
    "first_list = [2, 4, 5]"
   ]
  },
  {
   "cell_type": "code",
   "execution_count": 3,
   "metadata": {},
   "outputs": [
    {
     "data": {
      "text/plain": [
       "[4, 16, 25]"
      ]
     },
     "execution_count": 3,
     "metadata": {},
     "output_type": "execute_result"
    }
   ],
   "source": [
    "# External Iteration\n",
    "sq_First_List = []\n",
    "for eachElement in first_list:\n",
    "    sq_First_List.append(eachElement**2)\n",
    "sq_First_List   "
   ]
  },
  {
   "cell_type": "markdown",
   "metadata": {},
   "source": [
    "## Map \n",
    "1. It works like list comprehensions and for loops. \n",
    "2. It is used when you need to map or implement functions on each element of an iterable at the same time.\n",
    "\n",
    "map(param_1, param_2)\n",
    "    -> param_1: a function which defines the operation\n",
    "    -> param_2: data structure on which we have to perform the operation"
   ]
  },
  {
   "cell_type": "code",
   "execution_count": 5,
   "metadata": {},
   "outputs": [
    {
     "data": {
      "text/plain": [
       "[4, 16, 25]"
      ]
     },
     "execution_count": 5,
     "metadata": {},
     "output_type": "execute_result"
    }
   ],
   "source": [
    "list(map(lambda x: x**2, first_list))"
   ]
  },
  {
   "cell_type": "code",
   "execution_count": 7,
   "metadata": {},
   "outputs": [
    {
     "name": "stdout",
     "output_type": "stream",
     "text": [
      "[4, 16, 25]\n"
     ]
    }
   ],
   "source": [
    "print(list(map(lambda x: x**2, first_list)))"
   ]
  },
  {
   "cell_type": "code",
   "execution_count": 8,
   "metadata": {},
   "outputs": [
    {
     "name": "stdout",
     "output_type": "stream",
     "text": [
      "[4, 16, 25]\n"
     ]
    }
   ],
   "source": [
    "first_list = [2,4,5]\n",
    "print(list(map(lambda x: x**2, first_list)))"
   ]
  },
  {
   "cell_type": "code",
   "execution_count": 9,
   "metadata": {},
   "outputs": [
    {
     "name": "stdout",
     "output_type": "stream",
     "text": [
      "[4, 16, 25]\n"
     ]
    }
   ],
   "source": [
    "# Map with explicit function instead of a lambda expression\n",
    "def squareit(n):\n",
    "    return n**2\n",
    "\n",
    "print(list(map(squareit, first_list)))"
   ]
  },
  {
   "cell_type": "code",
   "execution_count": 11,
   "metadata": {},
   "outputs": [
    {
     "name": "stdout",
     "output_type": "stream",
     "text": [
      "[49, 100, 225, 196]\n"
     ]
    }
   ],
   "source": [
    "# map with two iterables and 2 arguments of the function in the 1st argument of map\n",
    "sums_list = [3,5,9,7]\n",
    "sums_list2 = (4,5,6,7) # this is a tuple\n",
    "print(list(map(lambda x,y : (x+y)**2, sums_list, sums_list2)))"
   ]
  },
  {
   "cell_type": "code",
   "execution_count": 17,
   "metadata": {
    "scrolled": true
   },
   "outputs": [
    {
     "name": "stdout",
     "output_type": "stream",
     "text": [
      "['Nikola Tesla Tesla', 'James Watt Watt', 'Albert Einstein Einstein']\n"
     ]
    }
   ],
   "source": [
    "list_of_names = ['nikola', 'james', 'albert']\n",
    "list_of_names2 = ['tesla','watt','einstein']\n",
    "list_of_names3 = ['tesla','watt','einstein']\n",
    "\n",
    "proper = lambda x, y, z: x[0].upper()+x[1:] +' '+ y[0].upper()+y[1:] +' '+ z[0].upper()+z[1:]\n",
    "\n",
    "print(list(map(proper, list_of_names, list_of_names2, list_of_names3)))"
   ]
  },
  {
   "cell_type": "code",
   "execution_count": 16,
   "metadata": {},
   "outputs": [
    {
     "name": "stdout",
     "output_type": "stream",
     "text": [
      "['Nikola Tesla', 'James Watt', 'Albert Einstein']\n"
     ]
    }
   ],
   "source": [
    "LIST_OF_LIST = [['nikola', 'tesla'], ['james', 'watt'], ['albert', 'einstein']]\n",
    "\n",
    "# apply proper on each element(['nikola', 'tesla']) of each element('nikola')\n",
    "\n",
    "req_proper = lambda x : x[0][0].upper() + x[0][1:] + ' ' + x[1][0].upper() + x[1][1:]\n",
    "print(list(map(req_proper, LIST_OF_LIST)))"
   ]
  },
  {
   "cell_type": "markdown",
   "metadata": {},
   "source": [
    "## Filter\n",
    "1. Return the elements from an iterable that satisfy a condition "
   ]
  },
  {
   "cell_type": "code",
   "execution_count": 18,
   "metadata": {},
   "outputs": [
    {
     "name": "stdout",
     "output_type": "stream",
     "text": [
      "<filter object at 0x0000026A32CFB610>\n",
      "[3, 6, 9]\n"
     ]
    }
   ],
   "source": [
    "#Filter\n",
    "# [True,False,False,True,False,False,True]\n",
    "# [3,6,9]\n",
    "\n",
    "\n",
    "divby3 = lambda x:  x % 3 == 0\n",
    "my_list = [3,4,5,6,7,8,9]\n",
    "div = filter(divby3, my_list)\n",
    "print(diV)\n",
    "print(list(div))"
   ]
  },
  {
   "cell_type": "code",
   "execution_count": 19,
   "metadata": {
    "scrolled": true
   },
   "outputs": [
    {
     "data": {
      "text/plain": [
       "[9, 36, 81]"
      ]
     },
     "execution_count": 19,
     "metadata": {},
     "output_type": "execute_result"
    }
   ],
   "source": [
    "my_list = [3,4,5,6,7,8,9]\n",
    "req_result = list(map(lambda x: x**2   ,list(filter(divby3, my_list))))\n",
    "req_result"
   ]
  },
  {
   "cell_type": "markdown",
   "metadata": {},
   "source": [
    "## Reduce\n",
    "1. Does pair-wise operations and uses the result from each operation, with the successive element.\n",
    "2. It is an aggregator function, it isn't a built-in function and is imported from functools"
   ]
  },
  {
   "cell_type": "code",
   "execution_count": 20,
   "metadata": {},
   "outputs": [
    {
     "name": "stdout",
     "output_type": "stream",
     "text": [
      "6\n"
     ]
    }
   ],
   "source": [
    "# range(1,4) = [1,2,3]\n",
    "# Reduce with 2 arguments, 1st value from tuple used as initializer\n",
    "from functools import reduce\n",
    "q  = reduce(lambda x=0, y=0: x+y, range(1,4))\n",
    "print(q)"
   ]
  },
  {
   "cell_type": "code",
   "execution_count": 21,
   "metadata": {},
   "outputs": [
    {
     "name": "stdout",
     "output_type": "stream",
     "text": [
      "106\n"
     ]
    }
   ],
   "source": [
    "# Reduce with 3rd argument as initializer\n",
    "from functools import reduce\n",
    "q  = reduce(lambda x, y: x+y, range(1,4), 100)\n",
    "print(q)"
   ]
  },
  {
   "cell_type": "code",
   "execution_count": 23,
   "metadata": {
    "scrolled": false
   },
   "outputs": [
    {
     "name": "stdout",
     "output_type": "stream",
     "text": [
      "120\n"
     ]
    }
   ],
   "source": [
    "# Reduce with multiplication operation\n",
    "from functools import reduce\n",
    "q  = reduce(lambda x, y: x*y, range(1,6))\n",
    "print(q)"
   ]
  },
  {
   "cell_type": "code",
   "execution_count": 24,
   "metadata": {},
   "outputs": [
    {
     "name": "stdout",
     "output_type": "stream",
     "text": [
      "0\n"
     ]
    }
   ],
   "source": [
    "# Reduce with multiplication operation and a 0 in betweem\n",
    "from functools import reduce\n",
    "q  = reduce(lambda x, y: x*y, range(-1,5))\n",
    "print(q)"
   ]
  },
  {
   "cell_type": "code",
   "execution_count": 25,
   "metadata": {},
   "outputs": [
    {
     "name": "stdout",
     "output_type": "stream",
     "text": [
      "-120\n"
     ]
    }
   ],
   "source": [
    "# Reduce with multiplication operation with negative numbers in betweem\n",
    "from functools import reduce\n",
    "q  = reduce(lambda x, y: x*y, (-1,-2,-3,4,5))\n",
    "print(q)"
   ]
  },
  {
   "cell_type": "code",
   "execution_count": 26,
   "metadata": {},
   "outputs": [
    {
     "name": "stdout",
     "output_type": "stream",
     "text": [
      "3\n"
     ]
    }
   ],
   "source": [
    "# Reduce with addition operation and negative numbers in betweem\n",
    "from functools import reduce\n",
    "q  = reduce(lambda x, y: x+y, (-1,-2,-3,4,5))\n",
    "print(q)"
   ]
  },
  {
   "cell_type": "code",
   "execution_count": 27,
   "metadata": {},
   "outputs": [
    {
     "name": "stdout",
     "output_type": "stream",
     "text": [
      "106\n"
     ]
    }
   ],
   "source": [
    "# Reduce with 3rd argument as initializer\n",
    "from functools import reduce\n",
    "q  = reduce(lambda x, y: x+y, range(1,4), 100)\n",
    "print(q)"
   ]
  },
  {
   "cell_type": "code",
   "execution_count": 28,
   "metadata": {
    "scrolled": true
   },
   "outputs": [
    {
     "name": "stdout",
     "output_type": "stream",
     "text": [
      "94\n"
     ]
    }
   ],
   "source": [
    "# finding max number using reduce\n",
    "list_of_nums = [22,45,32,20,87,94,30]\n",
    "print(reduce(lambda x,y: x if x>y else y,list_of_nums))"
   ]
  },
  {
   "cell_type": "code",
   "execution_count": 30,
   "metadata": {},
   "outputs": [
    {
     "data": {
      "text/plain": [
       "[9, 36, 81]"
      ]
     },
     "execution_count": 30,
     "metadata": {},
     "output_type": "execute_result"
    }
   ],
   "source": [
    "list(map(lambda x: x**2   ,list(filter(divby3, my_list))))"
   ]
  },
  {
   "cell_type": "code",
   "execution_count": 32,
   "metadata": {},
   "outputs": [
    {
     "data": {
      "text/plain": [
       "126"
      ]
     },
     "execution_count": 32,
     "metadata": {},
     "output_type": "execute_result"
    }
   ],
   "source": [
    "my_list = [3,4,5,6,7,8,9]\n",
    "req_result = reduce(lambda x,y:x+y ,list(map(lambda x: x**2   ,list(filter(divby3, my_list)))))    \n",
    "req_result"
   ]
  },
  {
   "cell_type": "code",
   "execution_count": 40,
   "metadata": {},
   "outputs": [
    {
     "data": {
      "text/plain": [
       "[3, 4, 5, 19, 24]"
      ]
     },
     "execution_count": 40,
     "metadata": {},
     "output_type": "execute_result"
    }
   ],
   "source": [
    "# Python Arrays\n",
    "list_1 = [3, 4, 5, 19, 24]\n",
    "# list_1.append('Avinash')\n",
    "list_1"
   ]
  },
  {
   "cell_type": "code",
   "execution_count": 41,
   "metadata": {
    "scrolled": true
   },
   "outputs": [
    {
     "name": "stdout",
     "output_type": "stream",
     "text": [
      "<class 'array.array'>\n"
     ]
    },
    {
     "data": {
      "text/plain": [
       "array('i', [3, 4, 5, 19, 24])"
      ]
     },
     "execution_count": 41,
     "metadata": {},
     "output_type": "execute_result"
    }
   ],
   "source": [
    "# Python Arrays\n",
    "import array\n",
    "LIST_ARR = array.array('i', list_1)\n",
    "print(type(LIST_ARR))\n",
    "LIST_ARR"
   ]
  },
  {
   "cell_type": "code",
   "execution_count": 39,
   "metadata": {},
   "outputs": [
    {
     "data": {
      "text/plain": [
       "array('i', [1, 2, 3, 4, 5])"
      ]
     },
     "execution_count": 39,
     "metadata": {},
     "output_type": "execute_result"
    }
   ],
   "source": [
    "my_array = array.array('i',[1, 2, 3, 4, 5])\n",
    "my_array"
   ]
  },
  {
   "cell_type": "markdown",
   "metadata": {},
   "source": [
    "### Practice"
   ]
  },
  {
   "cell_type": "code",
   "execution_count": null,
   "metadata": {},
   "outputs": [],
   "source": [
    "# mapped list of cubes \n",
    "first_list = [2, 4, 5]\n",
    "print(list(map(lambda x: x**3, first_list)))"
   ]
  },
  {
   "cell_type": "code",
   "execution_count": null,
   "metadata": {
    "scrolled": true
   },
   "outputs": [],
   "source": [
    "# Using the function map, count the number of words that start with ‘S’ in input_list.\n",
    "input_list = ['Shahid', 'Avinash', 'Shrishti']\n",
    "print(list(map(lambda x: x[0] == 'S', input_list)))\n",
    "# initials = list(map(lambda x : x[0], input_list))\n",
    "print(sum(map(lambda x: x[0] == 'S', input_list)))"
   ]
  },
  {
   "cell_type": "code",
   "execution_count": null,
   "metadata": {},
   "outputs": [],
   "source": [
    "# Create a list ‘name’ consisting of the combination of the first name and the second name from list 1 and 2 respectively. \n",
    "first_name = ['Ankur', 'Avik', 'Kiran', 'Nitin']\n",
    "last_name = ['Narang', 'Sarkar', 'R', 'Sareen']\n",
    "\n",
    "\n",
    "name = list(map(lambda x,y : x + ' ' + y, first_name, last_name))\n",
    "name"
   ]
  },
  {
   "cell_type": "code",
   "execution_count": null,
   "metadata": {},
   "outputs": [],
   "source": [
    "# Extract a list of numbers that are multiples of 5 from a list of integers named input_list using filter()\n",
    "input_list = [2,5,7,10,12,15]\n",
    "list_answer = list(filter(lambda x :  x % 5 == 0, input_list))\n",
    "list_answer"
   ]
  },
  {
   "cell_type": "code",
   "execution_count": null,
   "metadata": {},
   "outputs": [],
   "source": [
    "# Extract a list of names that start with an ‘s’ and end with a ‘p’ (both 's' and 'p' are lowercase) in input_list.\n",
    "input_list =  ['hdjk', 'salsap', 'sherpa']\n",
    "sp = list(filter(lambda x : x[0]=='s' and x[len(x)-1]=='p', input_list))\n",
    "sp"
   ]
  },
  {
   "cell_type": "code",
   "execution_count": null,
   "metadata": {},
   "outputs": [],
   "source": [
    "# concatenate a list of words in input_list, and print the output as a string with spaces in between\n",
    "input_list = ['I','Love','Python']\n",
    "\n",
    "from functools import reduce\n",
    "final_string = reduce(lambda x, y: x + \" \" + y, input_list)\n",
    "final_string"
   ]
  },
  {
   "cell_type": "code",
   "execution_count": null,
   "metadata": {},
   "outputs": [],
   "source": [
    "# print the largest number in input_list using the reduce() function.\n",
    "input_list = [31, 63, 76, 89]\n",
    "print(reduce(lambda x,y: x if x>y else y,input_list))"
   ]
  },
  {
   "cell_type": "markdown",
   "metadata": {},
   "source": [
    "### Additional Reading\n",
    "1. https://www.python-course.eu/lambda.php\n",
    "2. http://book.pythontips.com/en/latest/map_filter.html"
   ]
  }
 ],
 "metadata": {
  "anaconda-cloud": {},
  "kernelspec": {
   "display_name": "Python 3 (ipykernel)",
   "language": "python",
   "name": "python3"
  },
  "language_info": {
   "codemirror_mode": {
    "name": "ipython",
    "version": 3
   },
   "file_extension": ".py",
   "mimetype": "text/x-python",
   "name": "python",
   "nbconvert_exporter": "python",
   "pygments_lexer": "ipython3",
   "version": "3.9.7"
  }
 },
 "nbformat": 4,
 "nbformat_minor": 1
}
